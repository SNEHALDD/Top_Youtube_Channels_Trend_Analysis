{
 "cells": [
  {
   "cell_type": "code",
   "execution_count": 1,
   "metadata": {},
   "outputs": [],
   "source": [
    "import pandas as pd\n",
    "from sklearn.model_selection import train_test_split\n",
    "from sklearn.linear_model import LogisticRegression\n",
    "from sklearn.metrics import accuracy_score\n",
    "from sklearn.metrics import classification_report\n",
    "from sklearn.preprocessing import StandardScaler, LabelEncoder\n",
    "import matplotlib.pyplot as plt\n",
    "import seaborn as sns"
   ]
  },
  {
   "cell_type": "code",
   "execution_count": 2,
   "metadata": {},
   "outputs": [
    {
     "data": {
      "text/html": [
       "<div>\n",
       "<style scoped>\n",
       "    .dataframe tbody tr th:only-of-type {\n",
       "        vertical-align: middle;\n",
       "    }\n",
       "\n",
       "    .dataframe tbody tr th {\n",
       "        vertical-align: top;\n",
       "    }\n",
       "\n",
       "    .dataframe thead th {\n",
       "        text-align: right;\n",
       "    }\n",
       "</style>\n",
       "<table border=\"1\" class=\"dataframe\">\n",
       "  <thead>\n",
       "    <tr style=\"text-align: right;\">\n",
       "      <th></th>\n",
       "      <th>channel_id</th>\n",
       "      <th>custom_url</th>\n",
       "      <th>topic_category</th>\n",
       "      <th>channel_view_count</th>\n",
       "      <th>subscriber_count</th>\n",
       "      <th>channel_video_count</th>\n",
       "      <th>video_id</th>\n",
       "      <th>like_count</th>\n",
       "      <th>comment_count</th>\n",
       "      <th>view_count</th>\n",
       "      <th>day_of_week_published</th>\n",
       "      <th>time_published</th>\n",
       "      <th>video_length_seconds</th>\n",
       "    </tr>\n",
       "  </thead>\n",
       "  <tbody>\n",
       "    <tr>\n",
       "      <th>0</th>\n",
       "      <td>UCbCmjCuTUZos6Inko4u57UQ</td>\n",
       "      <td>@cocomelon</td>\n",
       "      <td>Music</td>\n",
       "      <td>142468175305</td>\n",
       "      <td>146000000</td>\n",
       "      <td>811</td>\n",
       "      <td>lmH5uqwaFq8</td>\n",
       "      <td>19653</td>\n",
       "      <td>0</td>\n",
       "      <td>3425275</td>\n",
       "      <td>Tuesday</td>\n",
       "      <td>07:00:15</td>\n",
       "      <td>179.0</td>\n",
       "    </tr>\n",
       "    <tr>\n",
       "      <th>1</th>\n",
       "      <td>UCbCmjCuTUZos6Inko4u57UQ</td>\n",
       "      <td>@cocomelon</td>\n",
       "      <td>Music</td>\n",
       "      <td>142468175305</td>\n",
       "      <td>146000000</td>\n",
       "      <td>811</td>\n",
       "      <td>0SY0Yn0yF9o</td>\n",
       "      <td>15076</td>\n",
       "      <td>0</td>\n",
       "      <td>2882582</td>\n",
       "      <td>Saturday</td>\n",
       "      <td>07:00:00</td>\n",
       "      <td>1792.0</td>\n",
       "    </tr>\n",
       "    <tr>\n",
       "      <th>2</th>\n",
       "      <td>UCbCmjCuTUZos6Inko4u57UQ</td>\n",
       "      <td>@cocomelon</td>\n",
       "      <td>Music</td>\n",
       "      <td>142468175305</td>\n",
       "      <td>146000000</td>\n",
       "      <td>811</td>\n",
       "      <td>sNyF7BvVfxs</td>\n",
       "      <td>47763</td>\n",
       "      <td>0</td>\n",
       "      <td>8673081</td>\n",
       "      <td>Tuesday</td>\n",
       "      <td>07:00:16</td>\n",
       "      <td>169.0</td>\n",
       "    </tr>\n",
       "    <tr>\n",
       "      <th>3</th>\n",
       "      <td>UCbCmjCuTUZos6Inko4u57UQ</td>\n",
       "      <td>@cocomelon</td>\n",
       "      <td>Music</td>\n",
       "      <td>142468175305</td>\n",
       "      <td>146000000</td>\n",
       "      <td>811</td>\n",
       "      <td>K4kqqCzF-BA</td>\n",
       "      <td>57936</td>\n",
       "      <td>0</td>\n",
       "      <td>11744611</td>\n",
       "      <td>Saturday</td>\n",
       "      <td>07:00:12</td>\n",
       "      <td>3681.0</td>\n",
       "    </tr>\n",
       "    <tr>\n",
       "      <th>4</th>\n",
       "      <td>UCbCmjCuTUZos6Inko4u57UQ</td>\n",
       "      <td>@cocomelon</td>\n",
       "      <td>Music</td>\n",
       "      <td>142468175305</td>\n",
       "      <td>146000000</td>\n",
       "      <td>811</td>\n",
       "      <td>gfZmvllWVwY</td>\n",
       "      <td>46041</td>\n",
       "      <td>0</td>\n",
       "      <td>8775011</td>\n",
       "      <td>Tuesday</td>\n",
       "      <td>07:00:19</td>\n",
       "      <td>159.0</td>\n",
       "    </tr>\n",
       "  </tbody>\n",
       "</table>\n",
       "</div>"
      ],
      "text/plain": [
       "                 channel_id  custom_url topic_category  channel_view_count  \\\n",
       "0  UCbCmjCuTUZos6Inko4u57UQ  @cocomelon          Music        142468175305   \n",
       "1  UCbCmjCuTUZos6Inko4u57UQ  @cocomelon          Music        142468175305   \n",
       "2  UCbCmjCuTUZos6Inko4u57UQ  @cocomelon          Music        142468175305   \n",
       "3  UCbCmjCuTUZos6Inko4u57UQ  @cocomelon          Music        142468175305   \n",
       "4  UCbCmjCuTUZos6Inko4u57UQ  @cocomelon          Music        142468175305   \n",
       "\n",
       "   subscriber_count  channel_video_count     video_id  like_count  \\\n",
       "0         146000000                  811  lmH5uqwaFq8       19653   \n",
       "1         146000000                  811  0SY0Yn0yF9o       15076   \n",
       "2         146000000                  811  sNyF7BvVfxs       47763   \n",
       "3         146000000                  811  K4kqqCzF-BA       57936   \n",
       "4         146000000                  811  gfZmvllWVwY       46041   \n",
       "\n",
       "   comment_count  view_count day_of_week_published time_published  \\\n",
       "0              0     3425275               Tuesday       07:00:15   \n",
       "1              0     2882582              Saturday       07:00:00   \n",
       "2              0     8673081               Tuesday       07:00:16   \n",
       "3              0    11744611              Saturday       07:00:12   \n",
       "4              0     8775011               Tuesday       07:00:19   \n",
       "\n",
       "   video_length_seconds  \n",
       "0                 179.0  \n",
       "1                1792.0  \n",
       "2                 169.0  \n",
       "3                3681.0  \n",
       "4                 159.0  "
      ]
     },
     "execution_count": 2,
     "metadata": {},
     "output_type": "execute_result"
    }
   ],
   "source": [
    "file=pd.read_csv(\"../Database/ready_for_sql/ml_table.csv\")\n",
    "df=file.copy()\n",
    "df.head()"
   ]
  },
  {
   "cell_type": "code",
   "execution_count": 3,
   "metadata": {},
   "outputs": [],
   "source": [
    "#make new column that has binary classification. if view count is greather than 1,000,000 then add 1 if less than add 0\n",
    "def viral(row):\n",
    "    if row['view_count'] > 1000000:\n",
    "        return 1\n",
    "    else:\n",
    "        return 0"
   ]
  },
  {
   "cell_type": "code",
   "execution_count": 4,
   "metadata": {},
   "outputs": [
    {
     "data": {
      "text/html": [
       "<div>\n",
       "<style scoped>\n",
       "    .dataframe tbody tr th:only-of-type {\n",
       "        vertical-align: middle;\n",
       "    }\n",
       "\n",
       "    .dataframe tbody tr th {\n",
       "        vertical-align: top;\n",
       "    }\n",
       "\n",
       "    .dataframe thead th {\n",
       "        text-align: right;\n",
       "    }\n",
       "</style>\n",
       "<table border=\"1\" class=\"dataframe\">\n",
       "  <thead>\n",
       "    <tr style=\"text-align: right;\">\n",
       "      <th></th>\n",
       "      <th>channel_id</th>\n",
       "      <th>custom_url</th>\n",
       "      <th>topic_category</th>\n",
       "      <th>channel_view_count</th>\n",
       "      <th>subscriber_count</th>\n",
       "      <th>channel_video_count</th>\n",
       "      <th>video_id</th>\n",
       "      <th>like_count</th>\n",
       "      <th>comment_count</th>\n",
       "      <th>view_count</th>\n",
       "      <th>day_of_week_published</th>\n",
       "      <th>time_published</th>\n",
       "      <th>video_length_seconds</th>\n",
       "      <th>viral</th>\n",
       "    </tr>\n",
       "  </thead>\n",
       "  <tbody>\n",
       "    <tr>\n",
       "      <th>6444</th>\n",
       "      <td>UC5TKWxKKl1IRfTZsVgS0ziA</td>\n",
       "      <td>ninasnutritionandexercisevideos</td>\n",
       "      <td>Physical_fitness</td>\n",
       "      <td>806787</td>\n",
       "      <td>1120</td>\n",
       "      <td>333</td>\n",
       "      <td>DiXF1tubIYM</td>\n",
       "      <td>1</td>\n",
       "      <td>0</td>\n",
       "      <td>11</td>\n",
       "      <td>Saturday</td>\n",
       "      <td>15:00:20</td>\n",
       "      <td>1931.0</td>\n",
       "      <td>0</td>\n",
       "    </tr>\n",
       "    <tr>\n",
       "      <th>4706</th>\n",
       "      <td>UCEdvpU2pFRCVqU6yIPyTpMQ</td>\n",
       "      <td>@marshmellomusic</td>\n",
       "      <td>Music</td>\n",
       "      <td>13763100048</td>\n",
       "      <td>56000000</td>\n",
       "      <td>403</td>\n",
       "      <td>3xoCjjQeXfY</td>\n",
       "      <td>31388</td>\n",
       "      <td>433</td>\n",
       "      <td>438712</td>\n",
       "      <td>Tuesday</td>\n",
       "      <td>19:33:19</td>\n",
       "      <td>13.0</td>\n",
       "      <td>0</td>\n",
       "    </tr>\n",
       "    <tr>\n",
       "      <th>3057</th>\n",
       "      <td>UCx-dJoP9hFCBloY9qodykvw</td>\n",
       "      <td>@bazbattles</td>\n",
       "      <td>Knowledge</td>\n",
       "      <td>85826404</td>\n",
       "      <td>711000</td>\n",
       "      <td>76</td>\n",
       "      <td>svVQwU86Pp8</td>\n",
       "      <td>15494</td>\n",
       "      <td>688</td>\n",
       "      <td>637044</td>\n",
       "      <td>Saturday</td>\n",
       "      <td>14:00:10</td>\n",
       "      <td>747.0</td>\n",
       "      <td>0</td>\n",
       "    </tr>\n",
       "    <tr>\n",
       "      <th>2166</th>\n",
       "      <td>UCiP6wD_tYlYLYh3agzbByWQ</td>\n",
       "      <td>@fitnessblender</td>\n",
       "      <td>Lifestyle</td>\n",
       "      <td>1255108574</td>\n",
       "      <td>6660000</td>\n",
       "      <td>958</td>\n",
       "      <td>wuW27uhsPMs</td>\n",
       "      <td>1881</td>\n",
       "      <td>68</td>\n",
       "      <td>55912</td>\n",
       "      <td>Monday</td>\n",
       "      <td>11:15:02</td>\n",
       "      <td>1642.0</td>\n",
       "      <td>0</td>\n",
       "    </tr>\n",
       "    <tr>\n",
       "      <th>1606</th>\n",
       "      <td>UCYenDLnIHsoqQ6smwKXQ7Hg</td>\n",
       "      <td>NaN</td>\n",
       "      <td>Entertainment</td>\n",
       "      <td>2471180324</td>\n",
       "      <td>8320000</td>\n",
       "      <td>860</td>\n",
       "      <td>Hac_XfYi6PY</td>\n",
       "      <td>6280</td>\n",
       "      <td>162</td>\n",
       "      <td>637365</td>\n",
       "      <td>Sunday</td>\n",
       "      <td>13:01:29</td>\n",
       "      <td>926.0</td>\n",
       "      <td>0</td>\n",
       "    </tr>\n",
       "  </tbody>\n",
       "</table>\n",
       "</div>"
      ],
      "text/plain": [
       "                    channel_id                       custom_url  \\\n",
       "6444  UC5TKWxKKl1IRfTZsVgS0ziA  ninasnutritionandexercisevideos   \n",
       "4706  UCEdvpU2pFRCVqU6yIPyTpMQ                 @marshmellomusic   \n",
       "3057  UCx-dJoP9hFCBloY9qodykvw                      @bazbattles   \n",
       "2166  UCiP6wD_tYlYLYh3agzbByWQ                  @fitnessblender   \n",
       "1606  UCYenDLnIHsoqQ6smwKXQ7Hg                              NaN   \n",
       "\n",
       "        topic_category  channel_view_count  subscriber_count  \\\n",
       "6444  Physical_fitness              806787              1120   \n",
       "4706             Music         13763100048          56000000   \n",
       "3057         Knowledge            85826404            711000   \n",
       "2166         Lifestyle          1255108574           6660000   \n",
       "1606     Entertainment          2471180324           8320000   \n",
       "\n",
       "      channel_video_count     video_id  like_count  comment_count  view_count  \\\n",
       "6444                  333  DiXF1tubIYM           1              0          11   \n",
       "4706                  403  3xoCjjQeXfY       31388            433      438712   \n",
       "3057                   76  svVQwU86Pp8       15494            688      637044   \n",
       "2166                  958  wuW27uhsPMs        1881             68       55912   \n",
       "1606                  860  Hac_XfYi6PY        6280            162      637365   \n",
       "\n",
       "     day_of_week_published time_published  video_length_seconds  viral  \n",
       "6444              Saturday       15:00:20                1931.0      0  \n",
       "4706               Tuesday       19:33:19                  13.0      0  \n",
       "3057              Saturday       14:00:10                 747.0      0  \n",
       "2166                Monday       11:15:02                1642.0      0  \n",
       "1606                Sunday       13:01:29                 926.0      0  "
      ]
     },
     "execution_count": 4,
     "metadata": {},
     "output_type": "execute_result"
    }
   ],
   "source": [
    "#add the viral column \n",
    "df['viral']=df.apply(lambda row: viral(row), axis=1)\n",
    "df.sample(5)"
   ]
  },
  {
   "cell_type": "code",
   "execution_count": 5,
   "metadata": {},
   "outputs": [
    {
     "data": {
      "text/plain": [
       "8408"
      ]
     },
     "execution_count": 5,
     "metadata": {},
     "output_type": "execute_result"
    }
   ],
   "source": [
    "df['video_id'].nunique()"
   ]
  },
  {
   "cell_type": "code",
   "execution_count": 6,
   "metadata": {},
   "outputs": [
    {
     "data": {
      "text/plain": [
       "(8993, 14)"
      ]
     },
     "execution_count": 6,
     "metadata": {},
     "output_type": "execute_result"
    }
   ],
   "source": [
    "df.shape"
   ]
  },
  {
   "cell_type": "code",
   "execution_count": 7,
   "metadata": {},
   "outputs": [
    {
     "data": {
      "text/plain": [
       "(8408, 14)"
      ]
     },
     "execution_count": 7,
     "metadata": {},
     "output_type": "execute_result"
    }
   ],
   "source": [
    "#drop duplicates of video id\n",
    "df=df.drop_duplicates(subset='video_id')\n",
    "df.shape"
   ]
  },
  {
   "cell_type": "code",
   "execution_count": 8,
   "metadata": {},
   "outputs": [
    {
     "data": {
      "text/html": [
       "<div>\n",
       "<style scoped>\n",
       "    .dataframe tbody tr th:only-of-type {\n",
       "        vertical-align: middle;\n",
       "    }\n",
       "\n",
       "    .dataframe tbody tr th {\n",
       "        vertical-align: top;\n",
       "    }\n",
       "\n",
       "    .dataframe thead th {\n",
       "        text-align: right;\n",
       "    }\n",
       "</style>\n",
       "<table border=\"1\" class=\"dataframe\">\n",
       "  <thead>\n",
       "    <tr style=\"text-align: right;\">\n",
       "      <th></th>\n",
       "      <th>topic_category</th>\n",
       "      <th>subscriber_count</th>\n",
       "      <th>channel_video_count</th>\n",
       "      <th>day_of_week_published</th>\n",
       "      <th>video_length_seconds</th>\n",
       "      <th>viral</th>\n",
       "    </tr>\n",
       "  </thead>\n",
       "  <tbody>\n",
       "    <tr>\n",
       "      <th>7865</th>\n",
       "      <td>Society</td>\n",
       "      <td>5310</td>\n",
       "      <td>617</td>\n",
       "      <td>Tuesday</td>\n",
       "      <td>512.0</td>\n",
       "      <td>0</td>\n",
       "    </tr>\n",
       "    <tr>\n",
       "      <th>8790</th>\n",
       "      <td>Lifestyle</td>\n",
       "      <td>9510</td>\n",
       "      <td>195</td>\n",
       "      <td>Friday</td>\n",
       "      <td>9.0</td>\n",
       "      <td>0</td>\n",
       "    </tr>\n",
       "    <tr>\n",
       "      <th>5840</th>\n",
       "      <td>Knowledge</td>\n",
       "      <td>417</td>\n",
       "      <td>175</td>\n",
       "      <td>Sunday</td>\n",
       "      <td>34.0</td>\n",
       "      <td>0</td>\n",
       "    </tr>\n",
       "    <tr>\n",
       "      <th>2347</th>\n",
       "      <td>Physical_fitness</td>\n",
       "      <td>2720000</td>\n",
       "      <td>1826</td>\n",
       "      <td>Thursday</td>\n",
       "      <td>57.0</td>\n",
       "      <td>0</td>\n",
       "    </tr>\n",
       "    <tr>\n",
       "      <th>4892</th>\n",
       "      <td>Film</td>\n",
       "      <td>30300000</td>\n",
       "      <td>8168</td>\n",
       "      <td>Thursday</td>\n",
       "      <td>370.0</td>\n",
       "      <td>0</td>\n",
       "    </tr>\n",
       "  </tbody>\n",
       "</table>\n",
       "</div>"
      ],
      "text/plain": [
       "        topic_category  subscriber_count  channel_video_count  \\\n",
       "7865           Society              5310                  617   \n",
       "8790         Lifestyle              9510                  195   \n",
       "5840         Knowledge               417                  175   \n",
       "2347  Physical_fitness           2720000                 1826   \n",
       "4892              Film          30300000                 8168   \n",
       "\n",
       "     day_of_week_published  video_length_seconds  viral  \n",
       "7865               Tuesday                 512.0      0  \n",
       "8790                Friday                   9.0      0  \n",
       "5840                Sunday                  34.0      0  \n",
       "2347              Thursday                  57.0      0  \n",
       "4892              Thursday                 370.0      0  "
      ]
     },
     "execution_count": 8,
     "metadata": {},
     "output_type": "execute_result"
    }
   ],
   "source": [
    "#remove columns not needed for ml\n",
    "df=df.drop(['channel_id','custom_url','video_id','channel_view_count','time_published','like_count','comment_count','view_count'],axis=1)\n",
    "df.sample(5)"
   ]
  },
  {
   "cell_type": "code",
   "execution_count": 9,
   "metadata": {},
   "outputs": [
    {
     "data": {
      "text/plain": [
       "topic_category            object\n",
       "subscriber_count           int64\n",
       "channel_video_count        int64\n",
       "day_of_week_published     object\n",
       "video_length_seconds     float64\n",
       "viral                      int64\n",
       "dtype: object"
      ]
     },
     "execution_count": 9,
     "metadata": {},
     "output_type": "execute_result"
    }
   ],
   "source": [
    "df.dtypes"
   ]
  },
  {
   "cell_type": "code",
   "execution_count": 10,
   "metadata": {},
   "outputs": [
    {
     "data": {
      "text/plain": [
       "49"
      ]
     },
     "execution_count": 10,
     "metadata": {},
     "output_type": "execute_result"
    }
   ],
   "source": [
    "#null\n",
    "df.video_length_seconds.isnull().sum()"
   ]
  },
  {
   "cell_type": "code",
   "execution_count": 11,
   "metadata": {},
   "outputs": [
    {
     "data": {
      "text/plain": [
       "topic_category           0\n",
       "subscriber_count         0\n",
       "channel_video_count      0\n",
       "day_of_week_published    0\n",
       "video_length_seconds     0\n",
       "viral                    0\n",
       "dtype: int64"
      ]
     },
     "execution_count": 11,
     "metadata": {},
     "output_type": "execute_result"
    }
   ],
   "source": [
    "df=df.dropna()\n",
    "df.isnull().sum()"
   ]
  },
  {
   "cell_type": "code",
   "execution_count": 12,
   "metadata": {},
   "outputs": [
    {
     "name": "stdout",
     "output_type": "stream",
     "text": [
      "shape of dataframe is:  (8359, 6)\n"
     ]
    },
    {
     "data": {
      "text/html": [
       "<div>\n",
       "<style scoped>\n",
       "    .dataframe tbody tr th:only-of-type {\n",
       "        vertical-align: middle;\n",
       "    }\n",
       "\n",
       "    .dataframe tbody tr th {\n",
       "        vertical-align: top;\n",
       "    }\n",
       "\n",
       "    .dataframe thead th {\n",
       "        text-align: right;\n",
       "    }\n",
       "</style>\n",
       "<table border=\"1\" class=\"dataframe\">\n",
       "  <thead>\n",
       "    <tr style=\"text-align: right;\">\n",
       "      <th></th>\n",
       "      <th>subscriber_count</th>\n",
       "      <th>channel_video_count</th>\n",
       "      <th>video_length_seconds</th>\n",
       "      <th>viral</th>\n",
       "    </tr>\n",
       "  </thead>\n",
       "  <tbody>\n",
       "    <tr>\n",
       "      <th>count</th>\n",
       "      <td>8.359000e+03</td>\n",
       "      <td>8359.000000</td>\n",
       "      <td>8359.000000</td>\n",
       "      <td>8359.000000</td>\n",
       "    </tr>\n",
       "    <tr>\n",
       "      <th>mean</th>\n",
       "      <td>1.449562e+07</td>\n",
       "      <td>6570.476612</td>\n",
       "      <td>939.747936</td>\n",
       "      <td>0.198469</td>\n",
       "    </tr>\n",
       "    <tr>\n",
       "      <th>std</th>\n",
       "      <td>2.775734e+07</td>\n",
       "      <td>27672.647634</td>\n",
       "      <td>1968.937453</td>\n",
       "      <td>0.398871</td>\n",
       "    </tr>\n",
       "    <tr>\n",
       "      <th>min</th>\n",
       "      <td>1.600000e+01</td>\n",
       "      <td>2.000000</td>\n",
       "      <td>0.000000</td>\n",
       "      <td>0.000000</td>\n",
       "    </tr>\n",
       "    <tr>\n",
       "      <th>25%</th>\n",
       "      <td>5.310000e+03</td>\n",
       "      <td>165.000000</td>\n",
       "      <td>163.000000</td>\n",
       "      <td>0.000000</td>\n",
       "    </tr>\n",
       "    <tr>\n",
       "      <th>50%</th>\n",
       "      <td>2.350000e+06</td>\n",
       "      <td>430.000000</td>\n",
       "      <td>452.000000</td>\n",
       "      <td>0.000000</td>\n",
       "    </tr>\n",
       "    <tr>\n",
       "      <th>75%</th>\n",
       "      <td>1.440000e+07</td>\n",
       "      <td>1425.000000</td>\n",
       "      <td>918.000000</td>\n",
       "      <td>0.000000</td>\n",
       "    </tr>\n",
       "    <tr>\n",
       "      <th>max</th>\n",
       "      <td>1.460000e+08</td>\n",
       "      <td>246686.000000</td>\n",
       "      <td>42901.000000</td>\n",
       "      <td>1.000000</td>\n",
       "    </tr>\n",
       "  </tbody>\n",
       "</table>\n",
       "</div>"
      ],
      "text/plain": [
       "       subscriber_count  channel_video_count  video_length_seconds  \\\n",
       "count      8.359000e+03          8359.000000           8359.000000   \n",
       "mean       1.449562e+07          6570.476612            939.747936   \n",
       "std        2.775734e+07         27672.647634           1968.937453   \n",
       "min        1.600000e+01             2.000000              0.000000   \n",
       "25%        5.310000e+03           165.000000            163.000000   \n",
       "50%        2.350000e+06           430.000000            452.000000   \n",
       "75%        1.440000e+07          1425.000000            918.000000   \n",
       "max        1.460000e+08        246686.000000          42901.000000   \n",
       "\n",
       "             viral  \n",
       "count  8359.000000  \n",
       "mean      0.198469  \n",
       "std       0.398871  \n",
       "min       0.000000  \n",
       "25%       0.000000  \n",
       "50%       0.000000  \n",
       "75%       0.000000  \n",
       "max       1.000000  "
      ]
     },
     "execution_count": 12,
     "metadata": {},
     "output_type": "execute_result"
    }
   ],
   "source": [
    "#shape of df\n",
    "print(\"shape of dataframe is: \", df.shape)\n",
    "\n",
    "#statistical details of data\n",
    "df.describe()"
   ]
  },
  {
   "cell_type": "markdown",
   "metadata": {},
   "source": [
    "PREPROCESS DATA"
   ]
  },
  {
   "cell_type": "code",
   "execution_count": 13,
   "metadata": {},
   "outputs": [
    {
     "data": {
      "text/html": [
       "<div>\n",
       "<style scoped>\n",
       "    .dataframe tbody tr th:only-of-type {\n",
       "        vertical-align: middle;\n",
       "    }\n",
       "\n",
       "    .dataframe tbody tr th {\n",
       "        vertical-align: top;\n",
       "    }\n",
       "\n",
       "    .dataframe thead th {\n",
       "        text-align: right;\n",
       "    }\n",
       "</style>\n",
       "<table border=\"1\" class=\"dataframe\">\n",
       "  <thead>\n",
       "    <tr style=\"text-align: right;\">\n",
       "      <th></th>\n",
       "      <th>topic_category</th>\n",
       "      <th>subscriber_count</th>\n",
       "      <th>channel_video_count</th>\n",
       "      <th>day_of_week_published</th>\n",
       "      <th>video_length_seconds</th>\n",
       "      <th>viral</th>\n",
       "    </tr>\n",
       "  </thead>\n",
       "  <tbody>\n",
       "    <tr>\n",
       "      <th>0</th>\n",
       "      <td>Music</td>\n",
       "      <td>146000000</td>\n",
       "      <td>811</td>\n",
       "      <td>Tuesday</td>\n",
       "      <td>179.0</td>\n",
       "      <td>1</td>\n",
       "    </tr>\n",
       "    <tr>\n",
       "      <th>1</th>\n",
       "      <td>Music</td>\n",
       "      <td>146000000</td>\n",
       "      <td>811</td>\n",
       "      <td>Saturday</td>\n",
       "      <td>1792.0</td>\n",
       "      <td>1</td>\n",
       "    </tr>\n",
       "    <tr>\n",
       "      <th>2</th>\n",
       "      <td>Music</td>\n",
       "      <td>146000000</td>\n",
       "      <td>811</td>\n",
       "      <td>Tuesday</td>\n",
       "      <td>169.0</td>\n",
       "      <td>1</td>\n",
       "    </tr>\n",
       "    <tr>\n",
       "      <th>3</th>\n",
       "      <td>Music</td>\n",
       "      <td>146000000</td>\n",
       "      <td>811</td>\n",
       "      <td>Saturday</td>\n",
       "      <td>3681.0</td>\n",
       "      <td>1</td>\n",
       "    </tr>\n",
       "    <tr>\n",
       "      <th>4</th>\n",
       "      <td>Music</td>\n",
       "      <td>146000000</td>\n",
       "      <td>811</td>\n",
       "      <td>Tuesday</td>\n",
       "      <td>159.0</td>\n",
       "      <td>1</td>\n",
       "    </tr>\n",
       "  </tbody>\n",
       "</table>\n",
       "</div>"
      ],
      "text/plain": [
       "  topic_category  subscriber_count  channel_video_count day_of_week_published  \\\n",
       "0          Music         146000000                  811               Tuesday   \n",
       "1          Music         146000000                  811              Saturday   \n",
       "2          Music         146000000                  811               Tuesday   \n",
       "3          Music         146000000                  811              Saturday   \n",
       "4          Music         146000000                  811               Tuesday   \n",
       "\n",
       "   video_length_seconds  viral  \n",
       "0                 179.0      1  \n",
       "1                1792.0      1  \n",
       "2                 169.0      1  \n",
       "3                3681.0      1  \n",
       "4                 159.0      1  "
      ]
     },
     "execution_count": 13,
     "metadata": {},
     "output_type": "execute_result"
    }
   ],
   "source": [
    "df.head()"
   ]
  },
  {
   "cell_type": "code",
   "execution_count": 14,
   "metadata": {},
   "outputs": [
    {
     "data": {
      "text/html": [
       "<div>\n",
       "<style scoped>\n",
       "    .dataframe tbody tr th:only-of-type {\n",
       "        vertical-align: middle;\n",
       "    }\n",
       "\n",
       "    .dataframe tbody tr th {\n",
       "        vertical-align: top;\n",
       "    }\n",
       "\n",
       "    .dataframe thead th {\n",
       "        text-align: right;\n",
       "    }\n",
       "</style>\n",
       "<table border=\"1\" class=\"dataframe\">\n",
       "  <thead>\n",
       "    <tr style=\"text-align: right;\">\n",
       "      <th></th>\n",
       "      <th>topic_category</th>\n",
       "      <th>subscriber_count</th>\n",
       "      <th>channel_video_count</th>\n",
       "      <th>day_of_week_published</th>\n",
       "      <th>video_length_seconds</th>\n",
       "      <th>viral</th>\n",
       "      <th>day</th>\n",
       "    </tr>\n",
       "  </thead>\n",
       "  <tbody>\n",
       "    <tr>\n",
       "      <th>439</th>\n",
       "      <td>0</td>\n",
       "      <td>61800000</td>\n",
       "      <td>2486</td>\n",
       "      <td>Friday</td>\n",
       "      <td>2941.0</td>\n",
       "      <td>0</td>\n",
       "      <td>0</td>\n",
       "    </tr>\n",
       "    <tr>\n",
       "      <th>7018</th>\n",
       "      <td>5</td>\n",
       "      <td>679</td>\n",
       "      <td>62</td>\n",
       "      <td>Thursday</td>\n",
       "      <td>1320.0</td>\n",
       "      <td>0</td>\n",
       "      <td>4</td>\n",
       "    </tr>\n",
       "    <tr>\n",
       "      <th>3992</th>\n",
       "      <td>9</td>\n",
       "      <td>5240000</td>\n",
       "      <td>46593</td>\n",
       "      <td>Tuesday</td>\n",
       "      <td>487.0</td>\n",
       "      <td>0</td>\n",
       "      <td>5</td>\n",
       "    </tr>\n",
       "    <tr>\n",
       "      <th>7671</th>\n",
       "      <td>2</td>\n",
       "      <td>28800</td>\n",
       "      <td>136</td>\n",
       "      <td>Tuesday</td>\n",
       "      <td>216.0</td>\n",
       "      <td>0</td>\n",
       "      <td>5</td>\n",
       "    </tr>\n",
       "    <tr>\n",
       "      <th>2942</th>\n",
       "      <td>15</td>\n",
       "      <td>2040000</td>\n",
       "      <td>455</td>\n",
       "      <td>Monday</td>\n",
       "      <td>33381.0</td>\n",
       "      <td>0</td>\n",
       "      <td>1</td>\n",
       "    </tr>\n",
       "  </tbody>\n",
       "</table>\n",
       "</div>"
      ],
      "text/plain": [
       "      topic_category  subscriber_count  channel_video_count  \\\n",
       "439                0          61800000                 2486   \n",
       "7018               5               679                   62   \n",
       "3992               9           5240000                46593   \n",
       "7671               2             28800                  136   \n",
       "2942              15           2040000                  455   \n",
       "\n",
       "     day_of_week_published  video_length_seconds  viral  day  \n",
       "439                 Friday                2941.0      0    0  \n",
       "7018              Thursday                1320.0      0    4  \n",
       "3992               Tuesday                 487.0      0    5  \n",
       "7671               Tuesday                 216.0      0    5  \n",
       "2942                Monday               33381.0      0    1  "
      ]
     },
     "execution_count": 14,
     "metadata": {},
     "output_type": "execute_result"
    }
   ],
   "source": [
    "#encode categorical data\n",
    "le = LabelEncoder()\n",
    "df['topic_category'] = le.fit_transform(df['topic_category'])\n",
    "df['day'] = le.fit_transform(df['day_of_week_published'])\n",
    "df.sample(5)"
   ]
  },
  {
   "cell_type": "code",
   "execution_count": 15,
   "metadata": {},
   "outputs": [],
   "source": [
    "# Day of Week dictionary\n",
    "weekday_num = {\n",
    "    \"Sunday\": 1,\n",
    "    \"Monday\": 2,\n",
    "    \"Tuesday\": 3,\n",
    "    \"Wednesday\": 4,\n",
    "    \"Thursday\": 5,\n",
    "    \"Friday\": 6,\n",
    "    \"Saturday\": 7\n",
    "}"
   ]
  },
  {
   "cell_type": "code",
   "execution_count": 16,
   "metadata": {},
   "outputs": [
    {
     "data": {
      "text/html": [
       "<div>\n",
       "<style scoped>\n",
       "    .dataframe tbody tr th:only-of-type {\n",
       "        vertical-align: middle;\n",
       "    }\n",
       "\n",
       "    .dataframe tbody tr th {\n",
       "        vertical-align: top;\n",
       "    }\n",
       "\n",
       "    .dataframe thead th {\n",
       "        text-align: right;\n",
       "    }\n",
       "</style>\n",
       "<table border=\"1\" class=\"dataframe\">\n",
       "  <thead>\n",
       "    <tr style=\"text-align: right;\">\n",
       "      <th></th>\n",
       "      <th>topic_category</th>\n",
       "      <th>subscriber_count</th>\n",
       "      <th>channel_video_count</th>\n",
       "      <th>video_length_seconds</th>\n",
       "      <th>viral</th>\n",
       "      <th>day_of_week</th>\n",
       "    </tr>\n",
       "  </thead>\n",
       "  <tbody>\n",
       "    <tr>\n",
       "      <th>0</th>\n",
       "      <td>7</td>\n",
       "      <td>146000000</td>\n",
       "      <td>811</td>\n",
       "      <td>179.0</td>\n",
       "      <td>1</td>\n",
       "      <td>3</td>\n",
       "    </tr>\n",
       "    <tr>\n",
       "      <th>1</th>\n",
       "      <td>7</td>\n",
       "      <td>146000000</td>\n",
       "      <td>811</td>\n",
       "      <td>1792.0</td>\n",
       "      <td>1</td>\n",
       "      <td>7</td>\n",
       "    </tr>\n",
       "    <tr>\n",
       "      <th>2</th>\n",
       "      <td>7</td>\n",
       "      <td>146000000</td>\n",
       "      <td>811</td>\n",
       "      <td>169.0</td>\n",
       "      <td>1</td>\n",
       "      <td>3</td>\n",
       "    </tr>\n",
       "    <tr>\n",
       "      <th>3</th>\n",
       "      <td>7</td>\n",
       "      <td>146000000</td>\n",
       "      <td>811</td>\n",
       "      <td>3681.0</td>\n",
       "      <td>1</td>\n",
       "      <td>7</td>\n",
       "    </tr>\n",
       "    <tr>\n",
       "      <th>4</th>\n",
       "      <td>7</td>\n",
       "      <td>146000000</td>\n",
       "      <td>811</td>\n",
       "      <td>159.0</td>\n",
       "      <td>1</td>\n",
       "      <td>3</td>\n",
       "    </tr>\n",
       "  </tbody>\n",
       "</table>\n",
       "</div>"
      ],
      "text/plain": [
       "   topic_category  subscriber_count  channel_video_count  \\\n",
       "0               7         146000000                  811   \n",
       "1               7         146000000                  811   \n",
       "2               7         146000000                  811   \n",
       "3               7         146000000                  811   \n",
       "4               7         146000000                  811   \n",
       "\n",
       "   video_length_seconds  viral  day_of_week  \n",
       "0                 179.0      1            3  \n",
       "1                1792.0      1            7  \n",
       "2                 169.0      1            3  \n",
       "3                3681.0      1            7  \n",
       "4                 159.0      1            3  "
      ]
     },
     "execution_count": 16,
     "metadata": {},
     "output_type": "execute_result"
    }
   ],
   "source": [
    "# weekdays names encoded using the dictionary values\n",
    "df[\"day_of_week\"] = df[\"day_of_week_published\"].apply(lambda x: weekday_num[x])\n",
    "df=df.drop(columns=['day','day_of_week_published'])\n",
    "df.head()"
   ]
  },
  {
   "cell_type": "code",
   "execution_count": 17,
   "metadata": {},
   "outputs": [
    {
     "data": {
      "image/png": "[encoded data removed]",
      "text/plain": [
       "<Figure size 432x288 with 2 Axes>"
      ]
     },
     "metadata": {
      "needs_background": "light"
     },
     "output_type": "display_data"
    }
   ],
   "source": [
    "#correlation between features\n",
    "corr_plot=sns.heatmap(df.corr(),annot=True, linewidths=3)\n",
    "plt.title(\"Correlation Plot\")\n",
    "plt.show()"
   ]
  },
  {
   "cell_type": "markdown",
   "metadata": {},
   "source": [
    "SCALE DATA"
   ]
  },
  {
   "cell_type": "code",
   "execution_count": 18,
   "metadata": {},
   "outputs": [],
   "source": [
    "#seperate features and target\n",
    "y=df['viral']\n",
    "X=df.drop(columns='viral')"
   ]
  },
  {
   "cell_type": "code",
   "execution_count": 19,
   "metadata": {},
   "outputs": [
    {
     "data": {
      "text/html": [
       "<div>\n",
       "<style scoped>\n",
       "    .dataframe tbody tr th:only-of-type {\n",
       "        vertical-align: middle;\n",
       "    }\n",
       "\n",
       "    .dataframe tbody tr th {\n",
       "        vertical-align: top;\n",
       "    }\n",
       "\n",
       "    .dataframe thead th {\n",
       "        text-align: right;\n",
       "    }\n",
       "</style>\n",
       "<table border=\"1\" class=\"dataframe\">\n",
       "  <thead>\n",
       "    <tr style=\"text-align: right;\">\n",
       "      <th></th>\n",
       "      <th>topic_category</th>\n",
       "      <th>subscriber_count</th>\n",
       "      <th>channel_video_count</th>\n",
       "      <th>video_length_seconds</th>\n",
       "      <th>day_of_week</th>\n",
       "    </tr>\n",
       "  </thead>\n",
       "  <tbody>\n",
       "    <tr>\n",
       "      <th>0</th>\n",
       "      <td>7</td>\n",
       "      <td>146000000</td>\n",
       "      <td>811</td>\n",
       "      <td>179.0</td>\n",
       "      <td>3</td>\n",
       "    </tr>\n",
       "    <tr>\n",
       "      <th>1</th>\n",
       "      <td>7</td>\n",
       "      <td>146000000</td>\n",
       "      <td>811</td>\n",
       "      <td>1792.0</td>\n",
       "      <td>7</td>\n",
       "    </tr>\n",
       "    <tr>\n",
       "      <th>2</th>\n",
       "      <td>7</td>\n",
       "      <td>146000000</td>\n",
       "      <td>811</td>\n",
       "      <td>169.0</td>\n",
       "      <td>3</td>\n",
       "    </tr>\n",
       "    <tr>\n",
       "      <th>3</th>\n",
       "      <td>7</td>\n",
       "      <td>146000000</td>\n",
       "      <td>811</td>\n",
       "      <td>3681.0</td>\n",
       "      <td>7</td>\n",
       "    </tr>\n",
       "    <tr>\n",
       "      <th>4</th>\n",
       "      <td>7</td>\n",
       "      <td>146000000</td>\n",
       "      <td>811</td>\n",
       "      <td>159.0</td>\n",
       "      <td>3</td>\n",
       "    </tr>\n",
       "  </tbody>\n",
       "</table>\n",
       "</div>"
      ],
      "text/plain": [
       "   topic_category  subscriber_count  channel_video_count  \\\n",
       "0               7         146000000                  811   \n",
       "1               7         146000000                  811   \n",
       "2               7         146000000                  811   \n",
       "3               7         146000000                  811   \n",
       "4               7         146000000                  811   \n",
       "\n",
       "   video_length_seconds  day_of_week  \n",
       "0                 179.0            3  \n",
       "1                1792.0            7  \n",
       "2                 169.0            3  \n",
       "3                3681.0            7  \n",
       "4                 159.0            3  "
      ]
     },
     "execution_count": 19,
     "metadata": {},
     "output_type": "execute_result"
    }
   ],
   "source": [
    "X.head()"
   ]
  },
  {
   "cell_type": "code",
   "execution_count": 20,
   "metadata": {},
   "outputs": [
    {
     "data": {
      "text/html": [
       "<div>\n",
       "<style scoped>\n",
       "    .dataframe tbody tr th:only-of-type {\n",
       "        vertical-align: middle;\n",
       "    }\n",
       "\n",
       "    .dataframe tbody tr th {\n",
       "        vertical-align: top;\n",
       "    }\n",
       "\n",
       "    .dataframe thead th {\n",
       "        text-align: right;\n",
       "    }\n",
       "</style>\n",
       "<table border=\"1\" class=\"dataframe\">\n",
       "  <thead>\n",
       "    <tr style=\"text-align: right;\">\n",
       "      <th></th>\n",
       "      <th>topic_category</th>\n",
       "      <th>subscriber_count</th>\n",
       "      <th>channel_video_count</th>\n",
       "      <th>video_length_seconds</th>\n",
       "      <th>day_of_week</th>\n",
       "    </tr>\n",
       "  </thead>\n",
       "  <tbody>\n",
       "    <tr>\n",
       "      <th>0</th>\n",
       "      <td>0.215727</td>\n",
       "      <td>4.737927</td>\n",
       "      <td>-0.208141</td>\n",
       "      <td>-0.386398</td>\n",
       "      <td>-0.600557</td>\n",
       "    </tr>\n",
       "    <tr>\n",
       "      <th>1</th>\n",
       "      <td>0.215727</td>\n",
       "      <td>4.737927</td>\n",
       "      <td>-0.208141</td>\n",
       "      <td>0.432875</td>\n",
       "      <td>1.591367</td>\n",
       "    </tr>\n",
       "    <tr>\n",
       "      <th>2</th>\n",
       "      <td>0.215727</td>\n",
       "      <td>4.737927</td>\n",
       "      <td>-0.208141</td>\n",
       "      <td>-0.391477</td>\n",
       "      <td>-0.600557</td>\n",
       "    </tr>\n",
       "    <tr>\n",
       "      <th>3</th>\n",
       "      <td>0.215727</td>\n",
       "      <td>4.737927</td>\n",
       "      <td>-0.208141</td>\n",
       "      <td>1.392333</td>\n",
       "      <td>1.591367</td>\n",
       "    </tr>\n",
       "    <tr>\n",
       "      <th>4</th>\n",
       "      <td>0.215727</td>\n",
       "      <td>4.737927</td>\n",
       "      <td>-0.208141</td>\n",
       "      <td>-0.396556</td>\n",
       "      <td>-0.600557</td>\n",
       "    </tr>\n",
       "  </tbody>\n",
       "</table>\n",
       "</div>"
      ],
      "text/plain": [
       "   topic_category  subscriber_count  channel_video_count  \\\n",
       "0        0.215727          4.737927            -0.208141   \n",
       "1        0.215727          4.737927            -0.208141   \n",
       "2        0.215727          4.737927            -0.208141   \n",
       "3        0.215727          4.737927            -0.208141   \n",
       "4        0.215727          4.737927            -0.208141   \n",
       "\n",
       "   video_length_seconds  day_of_week  \n",
       "0             -0.386398    -0.600557  \n",
       "1              0.432875     1.591367  \n",
       "2             -0.391477    -0.600557  \n",
       "3              1.392333     1.591367  \n",
       "4             -0.396556    -0.600557  "
      ]
     },
     "execution_count": 20,
     "metadata": {},
     "output_type": "execute_result"
    }
   ],
   "source": [
    "stds=StandardScaler()\n",
    "df_scaled=stds.fit_transform(X.to_numpy())\n",
    "df_scaled=pd.DataFrame(df_scaled,columns=['topic_category','subscriber_count','channel_video_count','video_length_seconds','day_of_week'])\n",
    "\n",
    "df_scaled.head()"
   ]
  },
  {
   "cell_type": "markdown",
   "metadata": {},
   "source": [
    "RESAMPLE DATA"
   ]
  },
  {
   "cell_type": "code",
   "execution_count": 21,
   "metadata": {},
   "outputs": [
    {
     "data": {
      "image/png": "[encoded data removed]",
      "text/plain": [
       "<Figure size 720x216 with 2 Axes>"
      ]
     },
     "metadata": {
      "needs_background": "light"
     },
     "output_type": "display_data"
    }
   ],
   "source": [
    "#chart target variables distribution- color #8C000F\n",
    "fig=plt.figure(figsize=(10,3))\n",
    "fig.add_subplot(1,2,1)\n",
    "colors=['firebrick','gray']\n",
    "explode=(0,.1)\n",
    "a=df[\"viral\"].value_counts(normalize=True).plot\n",
    "a.pie(explode=explode,colors=colors)\n",
    "fig.add_subplot(1,2,2)\n",
    "chart=sns.countplot(x=df[\"viral\"],palette=colors)\n",
    "\n",
    "plt.tight_layout()\n",
    "plt.show()"
   ]
  },
  {
   "cell_type": "code",
   "execution_count": 22,
   "metadata": {},
   "outputs": [
    {
     "name": "stdout",
     "output_type": "stream",
     "text": [
      "Viral:  19.84687163536308 %\n",
      "Not Viral:  80.15312836463691 %\n"
     ]
    }
   ],
   "source": [
    "#percentage viral/not viral\n",
    "print(\"Viral: \", df.viral.value_counts()[1]/len(df)*100,\"%\")\n",
    "print(\"Not Viral: \", df.viral.value_counts()[0]/len(df)*100,\"%\")"
   ]
  },
  {
   "cell_type": "code",
   "execution_count": 23,
   "metadata": {},
   "outputs": [],
   "source": [
    "#seperate features and target\n",
    "y=df['viral']\n",
    "X=df_scaled"
   ]
  },
  {
   "cell_type": "code",
   "execution_count": 24,
   "metadata": {},
   "outputs": [
    {
     "data": {
      "text/plain": [
       "(6269, 5)"
      ]
     },
     "execution_count": 24,
     "metadata": {},
     "output_type": "execute_result"
    }
   ],
   "source": [
    "#split data into training and testing \n",
    "X_train, X_test, y_train, y_test = train_test_split(X, \n",
    "                                                    y, \n",
    "                                                    random_state=1, \n",
    "                                                    stratify=y)\n",
    "X_train.shape"
   ]
  },
  {
   "cell_type": "code",
   "execution_count": 25,
   "metadata": {},
   "outputs": [
    {
     "data": {
      "text/plain": [
       "0    6700\n",
       "1    1659\n",
       "Name: viral, dtype: int64"
      ]
     },
     "execution_count": 25,
     "metadata": {},
     "output_type": "execute_result"
    }
   ],
   "source": [
    "y.value_counts()"
   ]
  },
  {
   "cell_type": "code",
   "execution_count": 26,
   "metadata": {},
   "outputs": [
    {
     "data": {
      "text/plain": [
       "Counter({0: 5822, 1: 5723})"
      ]
     },
     "execution_count": 26,
     "metadata": {},
     "output_type": "execute_result"
    }
   ],
   "source": [
    "from imblearn.combine import SMOTEENN\n",
    "from collections import Counter\n",
    "\n",
    "smote_enn = SMOTEENN(random_state=0)\n",
    "X_resampled, y_resampled = smote_enn.fit_resample(X, y)\n",
    "Counter(y_resampled)"
   ]
  },
  {
   "cell_type": "markdown",
   "metadata": {},
   "source": [
    "LOGISTIC REGRESSION"
   ]
  },
  {
   "cell_type": "code",
   "execution_count": 27,
   "metadata": {},
   "outputs": [
    {
     "data": {
      "text/plain": [
       "LogisticRegression(max_iter=150, random_state=1)"
      ]
     },
     "execution_count": 27,
     "metadata": {},
     "output_type": "execute_result"
    }
   ],
   "source": [
    "#create logistic regression model\n",
    "classifier = LogisticRegression(solver='lbfgs',\n",
    "                                max_iter=150,\n",
    "                                random_state=1)\n",
    "\n",
    "#fit train the model\n",
    "classifier.fit(X_resampled, y_resampled)"
   ]
  },
  {
   "cell_type": "code",
   "execution_count": 28,
   "metadata": {},
   "outputs": [
    {
     "name": "stdout",
     "output_type": "stream",
     "text": [
      "0.8755980861244019\n"
     ]
    }
   ],
   "source": [
    "#make predictions\n",
    "y_pred = classifier.predict(X_test)\n",
    "#accuracy score\n",
    "print(accuracy_score(y_test, y_pred))"
   ]
  },
  {
   "cell_type": "code",
   "execution_count": 29,
   "metadata": {},
   "outputs": [
    {
     "data": {
      "text/plain": [
       "array([[1533,  142],\n",
       "       [ 118,  297]])"
      ]
     },
     "execution_count": 29,
     "metadata": {},
     "output_type": "execute_result"
    }
   ],
   "source": [
    "# Display the confusion matrix\n",
    "from sklearn.metrics import confusion_matrix\n",
    "confusion_matrix(y_test,y_pred)"
   ]
  },
  {
   "cell_type": "code",
   "execution_count": 30,
   "metadata": {},
   "outputs": [
    {
     "name": "stdout",
     "output_type": "stream",
     "text": [
      "              precision    recall  f1-score   support\n",
      "\n",
      "           0       0.93      0.92      0.92      1675\n",
      "           1       0.68      0.72      0.70       415\n",
      "\n",
      "    accuracy                           0.88      2090\n",
      "   macro avg       0.80      0.82      0.81      2090\n",
      "weighted avg       0.88      0.88      0.88      2090\n",
      "\n"
     ]
    }
   ],
   "source": [
    "#classification report\n",
    "print(classification_report(y_test, y_pred))"
   ]
  },
  {
   "cell_type": "markdown",
   "metadata": {},
   "source": [
    "RANDOM FOREST CLASSIFIER"
   ]
  },
  {
   "cell_type": "code",
   "execution_count": 31,
   "metadata": {},
   "outputs": [],
   "source": [
    "from sklearn.metrics import balanced_accuracy_score\n",
    "from imblearn.metrics import classification_report_imbalanced"
   ]
  },
  {
   "cell_type": "code",
   "execution_count": 32,
   "metadata": {},
   "outputs": [
    {
     "data": {
      "text/plain": [
       "BalancedRandomForestClassifier(random_state=1)"
      ]
     },
     "execution_count": 32,
     "metadata": {},
     "output_type": "execute_result"
    }
   ],
   "source": [
    "# Create a random forest classifier\n",
    "from imblearn.ensemble import BalancedRandomForestClassifier\n",
    "\n",
    "model = BalancedRandomForestClassifier(n_estimators=100, random_state=1)\n",
    "\n",
    "# Fitting the model\n",
    "model.fit(X_resampled, y_resampled)"
   ]
  },
  {
   "cell_type": "code",
   "execution_count": 33,
   "metadata": {},
   "outputs": [
    {
     "data": {
      "text/plain": [
       "0.939144038841935"
      ]
     },
     "execution_count": 33,
     "metadata": {},
     "output_type": "execute_result"
    }
   ],
   "source": [
    "# Calculated the balanced accuracy score\n",
    "y_pred=model.predict(X_test)\n",
    "balanced_accuracy_score(y_test,y_pred)"
   ]
  },
  {
   "cell_type": "code",
   "execution_count": 36,
   "metadata": {},
   "outputs": [
    {
     "data": {
      "text/plain": [
       "array([[1568,  107],\n",
       "       [  24,  391]])"
      ]
     },
     "execution_count": 36,
     "metadata": {},
     "output_type": "execute_result"
    }
   ],
   "source": [
    "# Display the confusion matrix\n",
    "confusion_matrix(y_test, y_pred)"
   ]
  },
  {
   "cell_type": "code",
   "execution_count": 34,
   "metadata": {},
   "outputs": [
    {
     "name": "stdout",
     "output_type": "stream",
     "text": [
      "              precision    recall  f1-score   support\n",
      "\n",
      "           0       0.98      0.94      0.96      1675\n",
      "           1       0.79      0.94      0.86       415\n",
      "\n",
      "    accuracy                           0.94      2090\n",
      "   macro avg       0.89      0.94      0.91      2090\n",
      "weighted avg       0.95      0.94      0.94      2090\n",
      "\n"
     ]
    }
   ],
   "source": [
    "# Print the imbalanced classification report\n",
    "print(classification_report(y_test,y_pred))"
   ]
  },
  {
   "cell_type": "code",
   "execution_count": 35,
   "metadata": {},
   "outputs": [
    {
     "data": {
      "text/plain": [
       "[(0.5507690094707619, 'subscriber_count'),\n",
       " (0.24975458878624882, 'channel_video_count'),\n",
       " (0.09097064063649654, 'topic_category'),\n",
       " (0.08988660350163531, 'video_length_seconds'),\n",
       " (0.01861915760485736, 'day_of_week')]"
      ]
     },
     "execution_count": 35,
     "metadata": {},
     "output_type": "execute_result"
    }
   ],
   "source": [
    "# List the features sorted in descending order by feature importance\n",
    "sorted(zip(model.feature_importances_, X.columns), reverse=True)"
   ]
  },
  {
   "cell_type": "code",
   "execution_count": 41,
   "metadata": {},
   "outputs": [
    {
     "data": {
      "text/plain": [
       "subscriber_count        0.550769\n",
       "channel_video_count     0.249755\n",
       "topic_category          0.090971\n",
       "video_length_seconds    0.089887\n",
       "day_of_week             0.018619\n",
       "dtype: float64"
      ]
     },
     "execution_count": 41,
     "metadata": {},
     "output_type": "execute_result"
    }
   ],
   "source": [
    "feature_imp=pd.Series(model.feature_importances_, index=X.columns).sort_values(ascending=False)\n",
    "feature_imp"
   ]
  },
  {
   "cell_type": "code",
   "execution_count": 44,
   "metadata": {},
   "outputs": [
    {
     "name": "stderr",
     "output_type": "stream",
     "text": [
      "No artists with labels found to put in legend.  Note that artists whose label start with an underscore are ignored when legend() is called with no argument.\n"
     ]
    },
    {
     "data": {
      "image/png": "[encoded data removed]",
      "text/plain": [
       "<Figure size 432x288 with 1 Axes>"
      ]
     },
     "metadata": {
      "needs_background": "light"
     },
     "output_type": "display_data"
    }
   ],
   "source": [
    "#visualize feature importance\n",
    "#colors=sns.color_palette(\"rocket\", as_cmap=True)\n",
    "sns.barplot(x=feature_imp, y=feature_imp.index,palette=\"rocket\")\n",
    "plt.xlabel('Feature Importance Score')\n",
    "plt.ylabel('Features')\n",
    "plt.title(\"Visualizing Important Features\")\n",
    "plt.legend()\n",
    "plt.show()"
   ]
  },
  {
   "cell_type": "markdown",
   "metadata": {},
   "source": [
    "Trying to increase accuracy score"
   ]
  },
  {
   "cell_type": "code",
   "execution_count": 46,
   "metadata": {},
   "outputs": [
    {
     "name": "stdout",
     "output_type": "stream",
     "text": [
      "ACCURACY SCORE:  0.9106131990649164\n",
      "              precision    recall  f1-score   support\n",
      "\n",
      "           0       0.97      0.92      0.95      1675\n",
      "           1       0.73      0.90      0.81       415\n",
      "\n",
      "    accuracy                           0.91      2090\n",
      "   macro avg       0.85      0.91      0.88      2090\n",
      "weighted avg       0.93      0.91      0.92      2090\n",
      "\n"
     ]
    }
   ],
   "source": [
    "model = BalancedRandomForestClassifier(max_leaf_nodes=24,n_estimators=120, random_state=1)\n",
    "\n",
    "# Fitting the model\n",
    "model.fit(X_resampled, y_resampled)\n",
    "\n",
    "# Calculated the balanced accuracy score\n",
    "y_pred=model.predict(X_test)\n",
    "print(\"ACCURACY SCORE: \",balanced_accuracy_score(y_test,y_pred))\n",
    "\n",
    "# Print the imbalanced classification report\n",
    "print(classification_report(y_test,y_pred))"
   ]
  },
  {
   "cell_type": "code",
   "execution_count": 47,
   "metadata": {},
   "outputs": [
    {
     "name": "stdout",
     "output_type": "stream",
     "text": [
      "ACCURACY SCORE:  0.9283761913324942\n",
      "              precision    recall  f1-score   support\n",
      "\n",
      "           0       0.98      0.92      0.95      1675\n",
      "           1       0.74      0.94      0.83       415\n",
      "\n",
      "    accuracy                           0.92      2090\n",
      "   macro avg       0.86      0.93      0.89      2090\n",
      "weighted avg       0.94      0.92      0.93      2090\n",
      "\n"
     ]
    }
   ],
   "source": [
    "model = BalancedRandomForestClassifier(max_leaf_nodes=60,n_estimators=120, random_state=1)\n",
    "\n",
    "# Fitting the model\n",
    "model.fit(X_resampled, y_resampled)\n",
    "\n",
    "# Calculated the balanced accuracy score\n",
    "y_pred=model.predict(X_test)\n",
    "print(\"ACCURACY SCORE: \",balanced_accuracy_score(y_test,y_pred))\n",
    "\n",
    "# Print the imbalanced classification report\n",
    "print(classification_report(y_test,y_pred))"
   ]
  },
  {
   "cell_type": "code",
   "execution_count": 48,
   "metadata": {},
   "outputs": [
    {
     "name": "stdout",
     "output_type": "stream",
     "text": [
      "ACCURACY SCORE:  0.9247833123538931\n",
      "              precision    recall  f1-score   support\n",
      "\n",
      "           0       0.98      0.91      0.95      1675\n",
      "           1       0.73      0.93      0.82       415\n",
      "\n",
      "    accuracy                           0.92      2090\n",
      "   macro avg       0.86      0.92      0.88      2090\n",
      "weighted avg       0.93      0.92      0.92      2090\n",
      "\n"
     ]
    }
   ],
   "source": [
    "model = BalancedRandomForestClassifier(max_leaf_nodes=50,n_estimators=50, random_state=1)\n",
    "\n",
    "# Fitting the model\n",
    "model.fit(X_resampled, y_resampled)\n",
    "\n",
    "# Calculated the balanced accuracy score\n",
    "y_pred=model.predict(X_test)\n",
    "print(\"ACCURACY SCORE: \",balanced_accuracy_score(y_test,y_pred))\n",
    "\n",
    "# Print the imbalanced classification report\n",
    "print(classification_report(y_test,y_pred))"
   ]
  },
  {
   "cell_type": "code",
   "execution_count": 49,
   "metadata": {},
   "outputs": [
    {
     "name": "stdout",
     "output_type": "stream",
     "text": [
      "ACCURACY SCORE:  0.9301672361086135\n",
      "              precision    recall  f1-score   support\n",
      "\n",
      "           0       0.98      0.92      0.95      1675\n",
      "           1       0.75      0.94      0.83       415\n",
      "\n",
      "    accuracy                           0.93      2090\n",
      "   macro avg       0.87      0.93      0.89      2090\n",
      "weighted avg       0.94      0.93      0.93      2090\n",
      "\n"
     ]
    }
   ],
   "source": [
    "model = BalancedRandomForestClassifier(max_leaf_nodes= 80,n_estimators=1200, random_state=1)\n",
    "\n",
    "# Fitting the model\n",
    "model.fit(X_resampled, y_resampled)\n",
    "\n",
    "# Calculated the balanced accuracy score\n",
    "y_pred=model.predict(X_test)\n",
    "print(\"ACCURACY SCORE: \",balanced_accuracy_score(y_test,y_pred))\n",
    "\n",
    "# Print the imbalanced classification report\n",
    "print(classification_report(y_test,y_pred))"
   ]
  },
  {
   "cell_type": "code",
   "execution_count": 50,
   "metadata": {},
   "outputs": [
    {
     "name": "stdout",
     "output_type": "stream",
     "text": [
      "ACCURACY SCORE:  0.8998453515554756\n",
      "              precision    recall  f1-score   support\n",
      "\n",
      "           0       0.97      0.90      0.94      1675\n",
      "           1       0.69      0.90      0.78       415\n",
      "\n",
      "    accuracy                           0.90      2090\n",
      "   macro avg       0.83      0.90      0.86      2090\n",
      "weighted avg       0.92      0.90      0.91      2090\n",
      "\n"
     ]
    }
   ],
   "source": [
    "model = BalancedRandomForestClassifier(max_leaf_nodes= 10,n_estimators=1200, random_state=1)\n",
    "\n",
    "# Fitting the model\n",
    "model.fit(X_resampled, y_resampled)\n",
    "\n",
    "# Calculated the balanced accuracy score\n",
    "y_pred=model.predict(X_test)\n",
    "print(\"ACCURACY SCORE: \",balanced_accuracy_score(y_test,y_pred))\n",
    "\n",
    "# Print the imbalanced classification report\n",
    "print(classification_report(y_test,y_pred))"
   ]
  },
  {
   "cell_type": "code",
   "execution_count": 51,
   "metadata": {},
   "outputs": [
    {
     "name": "stdout",
     "output_type": "stream",
     "text": [
      "ACCURACY SCORE:  0.9388455313792483\n",
      "              precision    recall  f1-score   support\n",
      "\n",
      "           0       0.98      0.94      0.96      1675\n",
      "           1       0.78      0.94      0.86       415\n",
      "\n",
      "    accuracy                           0.94      2090\n",
      "   macro avg       0.88      0.94      0.91      2090\n",
      "weighted avg       0.94      0.94      0.94      2090\n",
      "\n"
     ]
    }
   ],
   "source": [
    "model = BalancedRandomForestClassifier(max_leaf_nodes= 800,n_estimators=1200, random_state=1)\n",
    "\n",
    "# Fitting the model\n",
    "model.fit(X_resampled, y_resampled)\n",
    "\n",
    "# Calculated the balanced accuracy score\n",
    "y_pred=model.predict(X_test)\n",
    "print(\"ACCURACY SCORE: \",balanced_accuracy_score(y_test,y_pred))\n",
    "\n",
    "# Print the imbalanced classification report\n",
    "print(classification_report(y_test,y_pred))"
   ]
  },
  {
   "cell_type": "markdown",
   "metadata": {},
   "source": [
    "ADABOOST CLASSIFIER"
   ]
  },
  {
   "cell_type": "code",
   "execution_count": 37,
   "metadata": {},
   "outputs": [
    {
     "data": {
      "text/plain": [
       "EasyEnsembleClassifier(n_estimators=100, random_state=1)"
      ]
     },
     "execution_count": 37,
     "metadata": {},
     "output_type": "execute_result"
    }
   ],
   "source": [
    "# Train the EasyEnsembleClassifier\n",
    "from imblearn.ensemble import EasyEnsembleClassifier\n",
    "\n",
    "model_eec=EasyEnsembleClassifier(n_estimators=100, random_state=1)\n",
    "model_eec.fit(X_resampled, y_resampled)"
   ]
  },
  {
   "cell_type": "code",
   "execution_count": 38,
   "metadata": {},
   "outputs": [
    {
     "data": {
      "text/plain": [
       "0.9094299586405323"
      ]
     },
     "execution_count": 38,
     "metadata": {},
     "output_type": "execute_result"
    }
   ],
   "source": [
    "# Calculated the balanced accuracy score\n",
    "y_pred=model_eec.predict(X_test)\n",
    "\n",
    "balanced_accuracy_score(y_test, y_pred)"
   ]
  },
  {
   "cell_type": "code",
   "execution_count": 39,
   "metadata": {},
   "outputs": [
    {
     "data": {
      "text/plain": [
       "array([[1529,  146],\n",
       "       [  39,  376]])"
      ]
     },
     "execution_count": 39,
     "metadata": {},
     "output_type": "execute_result"
    }
   ],
   "source": [
    "# Display the confusion matrix\n",
    "confusion_matrix(y_test, y_pred)"
   ]
  },
  {
   "cell_type": "code",
   "execution_count": 40,
   "metadata": {},
   "outputs": [
    {
     "name": "stdout",
     "output_type": "stream",
     "text": [
      "                   pre       rec       spe        f1       geo       iba       sup\n",
      "\n",
      "          0       0.98      0.91      0.91      0.94      0.91      0.83      1675\n",
      "          1       0.72      0.91      0.91      0.80      0.91      0.83       415\n",
      "\n",
      "avg / total       0.92      0.91      0.91      0.92      0.91      0.83      2090\n",
      "\n"
     ]
    }
   ],
   "source": [
    "# Print the imbalanced classification report\n",
    "print(classification_report_imbalanced(y_test, y_pred))"
   ]
  }
 ],
 "metadata": {
  "kernelspec": {
   "display_name": "Python 3.7.13 ('mlenv')",
   "language": "python",
   "name": "python3"
  },
  "language_info": {
   "codemirror_mode": {
    "name": "ipython",
    "version": 3
   },
   "file_extension": ".py",
   "mimetype": "text/x-python",
   "name": "python",
   "nbconvert_exporter": "python",
   "pygments_lexer": "ipython3",
   "version": "3.7.13"
  },
  "orig_nbformat": 4,
  "vscode": {
   "interpreter": {
    "hash": "d4f1b2b26d282679a37c22ffd0d805ae9e6e49f4c74aa42e69980383f9b2a98b"
   }
  }
 },
 "nbformat": 4,
 "nbformat_minor": 2
}
