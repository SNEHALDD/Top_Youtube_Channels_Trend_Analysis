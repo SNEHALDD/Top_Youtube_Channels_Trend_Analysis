{
 "cells": [
  {
   "cell_type": "code",
   "execution_count": 1,
   "metadata": {},
   "outputs": [],
   "source": [
    "# import dependencies\n",
    "import pandas as pd\n",
    "from sklearn.model_selection import train_test_split\n",
    "from sklearn.ensemble import RandomForestClassifier\n",
    "from sklearn.metrics import accuracy_score\n"
   ]
  },
  {
   "cell_type": "code",
   "execution_count": 2,
   "metadata": {},
   "outputs": [],
   "source": [
    "# read in the data\n",
    "random_channel_df = pd.read_csv('random_channels.csv')\n",
    "comment_df = pd.read_csv('comment_df.csv')\n",
    "all_channels = pd.read_csv('all_channels_df.csv')\n",
    "video_df = pd.read_csv('video_df_cleaned.csv')"
   ]
  },
  {
   "cell_type": "code",
   "execution_count": 3,
   "metadata": {},
   "outputs": [
    {
     "data": {
      "text/plain": [
       "Index(['id', 'title', 'description', 'publishedAt', 'thumbnails.default.url',\n",
       "       'customUrl', 'defaultLanguage', 'viewCount', 'subscriberCount',\n",
       "       'videoCount', 'topicIds', 'topicCategories', 'relatedPlaylists.uploads',\n",
       "       'category_title'],\n",
       "      dtype='object')"
      ]
     },
     "execution_count": 3,
     "metadata": {},
     "output_type": "execute_result"
    }
   ],
   "source": [
    "random_channel_df.columns"
   ]
  },
  {
   "cell_type": "code",
   "execution_count": 4,
   "metadata": {},
   "outputs": [],
   "source": [
    "# drop the columns that are not needed\n",
    "columns_to_drop = ['id', 'title', 'description', 'publishedAt', 'thumbnails.default.url', 'customUrl', 'defaultLanguage', 'topicIds', 'topicCategories', 'relatedPlaylists.uploads']\n",
    "\n",
    "random_channel_ml = random_channel_df.drop(columns_to_drop, axis=1)\n",
    "random_channel_ml = random_channel_ml.drop('category_title', axis=1)\n",
    "all_channels_ml = all_channels.drop(columns_to_drop, axis=1)"
   ]
  },
  {
   "cell_type": "code",
   "execution_count": 5,
   "metadata": {},
   "outputs": [
    {
     "data": {
      "text/html": [
       "<div>\n",
       "<style scoped>\n",
       "    .dataframe tbody tr th:only-of-type {\n",
       "        vertical-align: middle;\n",
       "    }\n",
       "\n",
       "    .dataframe tbody tr th {\n",
       "        vertical-align: top;\n",
       "    }\n",
       "\n",
       "    .dataframe thead th {\n",
       "        text-align: right;\n",
       "    }\n",
       "</style>\n",
       "<table border=\"1\" class=\"dataframe\">\n",
       "  <thead>\n",
       "    <tr style=\"text-align: right;\">\n",
       "      <th></th>\n",
       "      <th>viewCount</th>\n",
       "      <th>subscriberCount</th>\n",
       "      <th>videoCount</th>\n",
       "      <th>category_title</th>\n",
       "    </tr>\n",
       "  </thead>\n",
       "  <tbody>\n",
       "    <tr>\n",
       "      <th>0</th>\n",
       "      <td>142468175305</td>\n",
       "      <td>146000000</td>\n",
       "      <td>811</td>\n",
       "      <td>0</td>\n",
       "    </tr>\n",
       "    <tr>\n",
       "      <th>1</th>\n",
       "      <td>85183017773</td>\n",
       "      <td>102000000</td>\n",
       "      <td>729</td>\n",
       "      <td>0</td>\n",
       "    </tr>\n",
       "    <tr>\n",
       "      <th>2</th>\n",
       "      <td>83311249514</td>\n",
       "      <td>102000000</td>\n",
       "      <td>1030</td>\n",
       "      <td>0</td>\n",
       "    </tr>\n",
       "    <tr>\n",
       "      <th>3</th>\n",
       "      <td>72222883101</td>\n",
       "      <td>91600000</td>\n",
       "      <td>64797</td>\n",
       "      <td>0</td>\n",
       "    </tr>\n",
       "    <tr>\n",
       "      <th>4</th>\n",
       "      <td>69985080921</td>\n",
       "      <td>89200000</td>\n",
       "      <td>498</td>\n",
       "      <td>0</td>\n",
       "    </tr>\n",
       "    <tr>\n",
       "      <th>...</th>\n",
       "      <td>...</td>\n",
       "      <td>...</td>\n",
       "      <td>...</td>\n",
       "      <td>...</td>\n",
       "    </tr>\n",
       "    <tr>\n",
       "      <th>105</th>\n",
       "      <td>163749185</td>\n",
       "      <td>1460000</td>\n",
       "      <td>91</td>\n",
       "      <td>9</td>\n",
       "    </tr>\n",
       "    <tr>\n",
       "      <th>106</th>\n",
       "      <td>151941207</td>\n",
       "      <td>1020000</td>\n",
       "      <td>1266</td>\n",
       "      <td>9</td>\n",
       "    </tr>\n",
       "    <tr>\n",
       "      <th>107</th>\n",
       "      <td>126569583</td>\n",
       "      <td>689000</td>\n",
       "      <td>427</td>\n",
       "      <td>9</td>\n",
       "    </tr>\n",
       "    <tr>\n",
       "      <th>108</th>\n",
       "      <td>88299661</td>\n",
       "      <td>542000</td>\n",
       "      <td>257</td>\n",
       "      <td>9</td>\n",
       "    </tr>\n",
       "    <tr>\n",
       "      <th>109</th>\n",
       "      <td>75488060</td>\n",
       "      <td>643000</td>\n",
       "      <td>400</td>\n",
       "      <td>9</td>\n",
       "    </tr>\n",
       "  </tbody>\n",
       "</table>\n",
       "<p>110 rows × 4 columns</p>\n",
       "</div>"
      ],
      "text/plain": [
       "        viewCount  subscriberCount  videoCount  category_title\n",
       "0    142468175305        146000000         811               0\n",
       "1     85183017773        102000000         729               0\n",
       "2     83311249514        102000000        1030               0\n",
       "3     72222883101         91600000       64797               0\n",
       "4     69985080921         89200000         498               0\n",
       "..            ...              ...         ...             ...\n",
       "105     163749185          1460000          91               9\n",
       "106     151941207          1020000        1266               9\n",
       "107     126569583           689000         427               9\n",
       "108      88299661           542000         257               9\n",
       "109      75488060           643000         400               9\n",
       "\n",
       "[110 rows x 4 columns]"
      ]
     },
     "execution_count": 5,
     "metadata": {},
     "output_type": "execute_result"
    }
   ],
   "source": [
    "categories = all_channels_ml['category_title'].unique()\n",
    "categories\n",
    "\n",
    "# create a dictionary to map the categories to numbers\n",
    "category_dict = {}\n",
    "for i in range(len(categories)):\n",
    "    category_dict[categories[i]] = i\n",
    "\n",
    "# map the categories to numbers\n",
    "all_channels_ml['category_title'] = all_channels_ml['category_title'].map(category_dict)\n",
    "\n",
    "all_channels_ml\n",
    "\n"
   ]
  },
  {
   "cell_type": "code",
   "execution_count": 6,
   "metadata": {},
   "outputs": [
    {
     "name": "stdout",
     "output_type": "stream",
     "text": [
      "0.6363636363636364\n"
     ]
    }
   ],
   "source": [
    "# split the data into training and testing\n",
    "X = all_channels_ml.drop('category_title', axis=1)\n",
    "y = all_channels_ml['category_title']\n",
    "\n",
    "X_train, X_test, y_train, y_test = train_test_split(X, y, test_size=0.2, random_state=42)\n",
    "\n",
    "# create the model\n",
    "rf = RandomForestClassifier(n_estimators=100, random_state=42)\n",
    "\n",
    "# fit the model\n",
    "rf.fit(X_train, y_train)\n",
    "\n",
    "# predict the category\n",
    "y_pred = rf.predict(X_test)\n",
    "\n",
    "# check the accuracy\n",
    "print(accuracy_score(y_test, y_pred))"
   ]
  },
  {
   "cell_type": "code",
   "execution_count": 8,
   "metadata": {},
   "outputs": [
    {
     "data": {
      "text/html": [
       "<div>\n",
       "<style scoped>\n",
       "    .dataframe tbody tr th:only-of-type {\n",
       "        vertical-align: middle;\n",
       "    }\n",
       "\n",
       "    .dataframe tbody tr th {\n",
       "        vertical-align: top;\n",
       "    }\n",
       "\n",
       "    .dataframe thead th {\n",
       "        text-align: right;\n",
       "    }\n",
       "</style>\n",
       "<table border=\"1\" class=\"dataframe\">\n",
       "  <thead>\n",
       "    <tr style=\"text-align: right;\">\n",
       "      <th></th>\n",
       "      <th>viewCount</th>\n",
       "      <th>subscriberCount</th>\n",
       "      <th>videoCount</th>\n",
       "      <th>category_title</th>\n",
       "      <th>cluster</th>\n",
       "    </tr>\n",
       "  </thead>\n",
       "  <tbody>\n",
       "    <tr>\n",
       "      <th>0</th>\n",
       "      <td>142468175305</td>\n",
       "      <td>146000000</td>\n",
       "      <td>811</td>\n",
       "      <td>0</td>\n",
       "      <td>3</td>\n",
       "    </tr>\n",
       "    <tr>\n",
       "      <th>1</th>\n",
       "      <td>85183017773</td>\n",
       "      <td>102000000</td>\n",
       "      <td>729</td>\n",
       "      <td>0</td>\n",
       "      <td>1</td>\n",
       "    </tr>\n",
       "    <tr>\n",
       "      <th>2</th>\n",
       "      <td>83311249514</td>\n",
       "      <td>102000000</td>\n",
       "      <td>1030</td>\n",
       "      <td>0</td>\n",
       "      <td>1</td>\n",
       "    </tr>\n",
       "    <tr>\n",
       "      <th>3</th>\n",
       "      <td>72222883101</td>\n",
       "      <td>91600000</td>\n",
       "      <td>64797</td>\n",
       "      <td>0</td>\n",
       "      <td>7</td>\n",
       "    </tr>\n",
       "    <tr>\n",
       "      <th>4</th>\n",
       "      <td>69985080921</td>\n",
       "      <td>89200000</td>\n",
       "      <td>498</td>\n",
       "      <td>0</td>\n",
       "      <td>7</td>\n",
       "    </tr>\n",
       "    <tr>\n",
       "      <th>...</th>\n",
       "      <td>...</td>\n",
       "      <td>...</td>\n",
       "      <td>...</td>\n",
       "      <td>...</td>\n",
       "      <td>...</td>\n",
       "    </tr>\n",
       "    <tr>\n",
       "      <th>105</th>\n",
       "      <td>163749185</td>\n",
       "      <td>1460000</td>\n",
       "      <td>91</td>\n",
       "      <td>9</td>\n",
       "      <td>8</td>\n",
       "    </tr>\n",
       "    <tr>\n",
       "      <th>106</th>\n",
       "      <td>151941207</td>\n",
       "      <td>1020000</td>\n",
       "      <td>1266</td>\n",
       "      <td>9</td>\n",
       "      <td>8</td>\n",
       "    </tr>\n",
       "    <tr>\n",
       "      <th>107</th>\n",
       "      <td>126569583</td>\n",
       "      <td>689000</td>\n",
       "      <td>427</td>\n",
       "      <td>9</td>\n",
       "      <td>8</td>\n",
       "    </tr>\n",
       "    <tr>\n",
       "      <th>108</th>\n",
       "      <td>88299661</td>\n",
       "      <td>542000</td>\n",
       "      <td>257</td>\n",
       "      <td>9</td>\n",
       "      <td>8</td>\n",
       "    </tr>\n",
       "    <tr>\n",
       "      <th>109</th>\n",
       "      <td>75488060</td>\n",
       "      <td>643000</td>\n",
       "      <td>400</td>\n",
       "      <td>9</td>\n",
       "      <td>8</td>\n",
       "    </tr>\n",
       "  </tbody>\n",
       "</table>\n",
       "<p>110 rows × 5 columns</p>\n",
       "</div>"
      ],
      "text/plain": [
       "        viewCount  subscriberCount  videoCount  category_title  cluster\n",
       "0    142468175305        146000000         811               0        3\n",
       "1     85183017773        102000000         729               0        1\n",
       "2     83311249514        102000000        1030               0        1\n",
       "3     72222883101         91600000       64797               0        7\n",
       "4     69985080921         89200000         498               0        7\n",
       "..            ...              ...         ...             ...      ...\n",
       "105     163749185          1460000          91               9        8\n",
       "106     151941207          1020000        1266               9        8\n",
       "107     126569583           689000         427               9        8\n",
       "108      88299661           542000         257               9        8\n",
       "109      75488060           643000         400               9        8\n",
       "\n",
       "[110 rows x 5 columns]"
      ]
     },
     "execution_count": 8,
     "metadata": {},
     "output_type": "execute_result"
    }
   ],
   "source": [
    "# use kmeans to cluster the channels\n",
    "from sklearn.cluster import KMeans\n",
    "\n",
    "# create the model\n",
    "kmeans = KMeans(n_clusters=10, random_state=42)\n",
    "\n",
    "# fit the model\n",
    "kmeans.fit(all_channels_ml)\n",
    "\n",
    "# predict the cluster\n",
    "all_channels_ml['cluster'] = kmeans.predict(all_channels_ml)\n",
    "\n",
    "all_channels_ml"
   ]
  },
  {
   "cell_type": "code",
   "execution_count": 14,
   "metadata": {},
   "outputs": [
    {
     "data": {
      "application/vnd.plotly.v1+json": {
       "config": {
        "plotlyServerURL": "https://plot.ly"
       },
       "data": [
        {
         "hovertemplate": "category_title=top_channels<br>viewCount=%{x}<br>subscriberCount=%{y}<br>videoCount=%{z}<extra></extra>",
         "legendgroup": "top_channels",
         "marker": {
          "color": "#636efa",
          "symbol": "circle"
         },
         "mode": "markers",
         "name": "top_channels",
         "scene": "scene",
         "showlegend": true,
         "type": "scatter3d",
         "x": [
          142468175305,
          85183017773,
          83311249514,
          72222883101,
          69985080921,
          59357635537,
          34102257505,
          30013904671,
          29118070497,
          28570510467,
          28469930227,
          26581134599,
          24541103322,
          24468253072,
          22606534238,
          18120591612,
          15051897307,
          12444429054,
          10243824899,
          8830680996
         ],
         "y": [
          146000000,
          102000000,
          102000000,
          91600000,
          89200000,
          58100000,
          61800000,
          51100000,
          70400000,
          111000000,
          52600000,
          49200000,
          54000000,
          77900000,
          52000000,
          109000000,
          58300000,
          46900000,
          44100000,
          47800000
         ],
         "z": [
          811,
          729,
          1030,
          64797,
          498,
          39628,
          2486,
          576,
          248,
          4514,
          258,
          194,
          140,
          5759,
          146,
          731,
          304,
          49,
          4873,
          673
         ]
        },
        {
         "hovertemplate": "category_title=top_comedy_channels<br>viewCount=%{x}<br>subscriberCount=%{y}<br>videoCount=%{z}<extra></extra>",
         "legendgroup": "top_comedy_channels",
         "marker": {
          "color": "#EF553B",
          "symbol": "circle"
         },
         "mode": "markers",
         "name": "top_comedy_channels",
         "scene": "scene",
         "showlegend": true,
         "type": "scatter3d",
         "x": [
          16489352119,
          10215915230,
          7376426348,
          4999570389,
          4280678727,
          3878829743,
          3471359510,
          2601132326,
          2263525696,
          1771031767
         ],
         "y": [
          30300000,
          24900000,
          14600000,
          17700000,
          19500000,
          14400000,
          14600000,
          17300000,
          16200000,
          19800000
         ],
         "z": [
          8168,
          1406,
          3316,
          154,
          567,
          461,
          869,
          189,
          362,
          250
         ]
        },
        {
         "hovertemplate": "category_title=top_cooking_channels<br>viewCount=%{x}<br>subscriberCount=%{y}<br>videoCount=%{z}<extra></extra>",
         "legendgroup": "top_cooking_channels",
         "marker": {
          "color": "#00cc96",
          "symbol": "circle"
         },
         "mode": "markers",
         "name": "top_cooking_channels",
         "scene": "scene",
         "showlegend": true,
         "type": "scatter3d",
         "x": [
          5563502938,
          2418112820,
          1666837397,
          888257555,
          882817587,
          863099573,
          679293948,
          642625761,
          562416182,
          383114517
         ],
         "y": [
          21000000,
          9900000,
          6130000,
          4910000,
          2640000,
          5740000,
          6120000,
          3870000,
          6890000,
          5320000
         ],
         "z": [
          4372,
          557,
          1369,
          493,
          1752,
          1798,
          480,
          1747,
          422,
          38
         ]
        },
        {
         "hovertemplate": "category_title=top_education_channels<br>viewCount=%{x}<br>subscriberCount=%{y}<br>videoCount=%{z}<extra></extra>",
         "legendgroup": "top_education_channels",
         "marker": {
          "color": "#ab63fa",
          "symbol": "circle"
         },
         "mode": "markers",
         "name": "top_education_channels",
         "scene": "scene",
         "showlegend": true,
         "type": "scatter3d",
         "x": [
          5313220857,
          3381788753,
          3351014609,
          2471180324,
          2007495792,
          1866220335,
          1737086652,
          1652302178,
          1469460276,
          1440591844
         ],
         "y": [
          20700000,
          17800000,
          12500000,
          8320000,
          7550000,
          13000000,
          14100000,
          7280000,
          6130000,
          5570000
         ],
         "z": [
          9939,
          1973,
          1450,
          860,
          8346,
          340,
          1452,
          3129,
          933,
          1374
         ]
        },
        {
         "hovertemplate": "category_title=top_fitness_channels<br>viewCount=%{x}<br>subscriberCount=%{y}<br>videoCount=%{z}<extra></extra>",
         "legendgroup": "top_fitness_channels",
         "marker": {
          "color": "#FFA15A",
          "symbol": "circle"
         },
         "mode": "markers",
         "name": "top_fitness_channels",
         "scene": "scene",
         "showlegend": true,
         "type": "scatter3d",
         "x": [
          2011288007,
          1255108574,
          942939712,
          900355080,
          602906424,
          536947045,
          302737660,
          222337247,
          170350424,
          131027169
         ],
         "y": [
          7600000,
          6660000,
          6020000,
          4300000,
          2720000,
          3240000,
          3640000,
          2080000,
          2350000,
          1920000
         ],
         "z": [
          1091,
          958,
          1563,
          490,
          1826,
          694,
          275,
          430,
          411,
          251
         ]
        },
        {
         "hovertemplate": "category_title=top_history_channels<br>viewCount=%{x}<br>subscriberCount=%{y}<br>videoCount=%{z}<extra></extra>",
         "legendgroup": "top_history_channels",
         "marker": {
          "color": "#19d3f3",
          "symbol": "circle"
         },
         "mode": "markers",
         "name": "top_history_channels",
         "scene": "scene",
         "showlegend": true,
         "type": "scatter3d",
         "x": [
          3435765658,
          1087509237,
          984667385,
          912902296,
          564734731,
          331855222,
          175233908,
          106661887,
          85826404,
          38726149
         ],
         "y": [
          10900000,
          4050000,
          4420000,
          6900000,
          2040000,
          2160000,
          1430000,
          895000,
          711000,
          590000
         ],
         "z": [
          8638,
          624,
          1011,
          29,
          455,
          242,
          88,
          82,
          76,
          55
         ]
        },
        {
         "hovertemplate": "category_title=top_music_channels<br>viewCount=%{x}<br>subscriberCount=%{y}<br>videoCount=%{z}<extra></extra>",
         "legendgroup": "top_music_channels",
         "marker": {
          "color": "#FF6692",
          "symbol": "circle"
         },
         "mode": "markers",
         "name": "top_music_channels",
         "scene": "scene",
         "showlegend": true,
         "type": "scatter3d",
         "x": [
          28469930227,
          26581134599,
          24541103322,
          24334843620,
          22606534238,
          20386936170,
          17894740372,
          13763100048,
          13599758367,
          12921232637
         ],
         "y": [
          52600000,
          49200000,
          54000000,
          43500000,
          52000000,
          29800000,
          35700000,
          56000000,
          30500000,
          37600000
         ],
         "z": [
          258,
          194,
          140,
          119,
          146,
          10940,
          97,
          403,
          2542,
          157
         ]
        },
        {
         "hovertemplate": "category_title=top_news_channels<br>viewCount=%{x}<br>subscriberCount=%{y}<br>videoCount=%{z}<extra></extra>",
         "legendgroup": "top_news_channels",
         "marker": {
          "color": "#B6E880",
          "symbol": "circle"
         },
         "mode": "markers",
         "name": "top_news_channels",
         "scene": "scene",
         "showlegend": true,
         "type": "scatter3d",
         "x": [
          19981182828,
          14201438069,
          12731751111,
          11995258535,
          9745936107,
          5901789812,
          5684995482,
          4315880094,
          4089593340,
          2997561451
         ],
         "y": [
          11200000,
          32900000,
          14400000,
          13800000,
          14400000,
          5240000,
          10000000,
          16300000,
          13400000,
          10900000
         ],
         "z": [
          28019,
          246686,
          156673,
          73945,
          179447,
          46593,
          2776,
          3740,
          16958,
          1428
         ]
        },
        {
         "hovertemplate": "category_title=top_science_channels<br>viewCount=%{x}<br>subscriberCount=%{y}<br>videoCount=%{z}<extra></extra>",
         "legendgroup": "top_science_channels",
         "marker": {
          "color": "#FF97FF",
          "symbol": "circle"
         },
         "mode": "markers",
         "name": "top_science_channels",
         "scene": "scene",
         "showlegend": true,
         "type": "scatter3d",
         "x": [
          2129399806,
          1790254768,
          1074535210,
          1020971516,
          734126790,
          542825326,
          513233182,
          350138531,
          349942608,
          0
         ],
         "y": [
          19500000,
          10300000,
          10600000,
          4400000,
          5410000,
          2370000,
          5580000,
          847000,
          2040000,
          2120000
         ],
         "z": [
          166,
          445,
          359,
          1908,
          175,
          527,
          268,
          623,
          480,
          0
         ]
        },
        {
         "hovertemplate": "category_title=top_travel_channels<br>viewCount=%{x}<br>subscriberCount=%{y}<br>videoCount=%{z}<extra></extra>",
         "legendgroup": "top_travel_channels",
         "marker": {
          "color": "#FECB52",
          "symbol": "circle"
         },
         "mode": "markers",
         "name": "top_travel_channels",
         "scene": "scene",
         "showlegend": true,
         "type": "scatter3d",
         "x": [
          4423952458,
          2215066319,
          346822518,
          290602187,
          180452331,
          163749185,
          151941207,
          126569583,
          88299661,
          75488060
         ],
         "y": [
          7870000,
          9360000,
          1610000,
          1140000,
          1150000,
          1460000,
          1020000,
          689000,
          542000,
          643000
         ],
         "z": [
          7425,
          1263,
          1919,
          674,
          344,
          91,
          1266,
          427,
          257,
          400
         ]
        }
       ],
       "layout": {
        "legend": {
         "title": {
          "text": "category_title"
         },
         "tracegroupgap": 0
        },
        "margin": {
         "t": 60
        },
        "scene": {
         "domain": {
          "x": [
           0,
           1
          ],
          "y": [
           0,
           1
          ]
         },
         "xaxis": {
          "title": {
           "text": "viewCount"
          }
         },
         "yaxis": {
          "title": {
           "text": "subscriberCount"
          }
         },
         "zaxis": {
          "title": {
           "text": "videoCount"
          }
         }
        },
        "template": {
         "data": {
          "bar": [
           {
            "error_x": {
             "color": "#2a3f5f"
            },
            "error_y": {
             "color": "#2a3f5f"
            },
            "marker": {
             "line": {
              "color": "#E5ECF6",
              "width": 0.5
             },
             "pattern": {
              "fillmode": "overlay",
              "size": 10,
              "solidity": 0.2
             }
            },
            "type": "bar"
           }
          ],
          "barpolar": [
           {
            "marker": {
             "line": {
              "color": "#E5ECF6",
              "width": 0.5
             },
             "pattern": {
              "fillmode": "overlay",
              "size": 10,
              "solidity": 0.2
             }
            },
            "type": "barpolar"
           }
          ],
          "carpet": [
           {
            "aaxis": {
             "endlinecolor": "#2a3f5f",
             "gridcolor": "white",
             "linecolor": "white",
             "minorgridcolor": "white",
             "startlinecolor": "#2a3f5f"
            },
            "baxis": {
             "endlinecolor": "#2a3f5f",
             "gridcolor": "white",
             "linecolor": "white",
             "minorgridcolor": "white",
             "startlinecolor": "#2a3f5f"
            },
            "type": "carpet"
           }
          ],
          "choropleth": [
           {
            "colorbar": {
             "outlinewidth": 0,
             "ticks": ""
            },
            "type": "choropleth"
           }
          ],
          "contour": [
           {
            "colorbar": {
             "outlinewidth": 0,
             "ticks": ""
            },
            "colorscale": [
             [
              0,
              "#0d0887"
             ],
             [
              0.1111111111111111,
              "#46039f"
             ],
             [
              0.2222222222222222,
              "#7201a8"
             ],
             [
              0.3333333333333333,
              "#9c179e"
             ],
             [
              0.4444444444444444,
              "#bd3786"
             ],
             [
              0.5555555555555556,
              "#d8576b"
             ],
             [
              0.6666666666666666,
              "#ed7953"
             ],
             [
              0.7777777777777778,
              "#fb9f3a"
             ],
             [
              0.8888888888888888,
              "#fdca26"
             ],
             [
              1,
              "#f0f921"
             ]
            ],
            "type": "contour"
           }
          ],
          "contourcarpet": [
           {
            "colorbar": {
             "outlinewidth": 0,
             "ticks": ""
            },
            "type": "contourcarpet"
           }
          ],
          "heatmap": [
           {
            "colorbar": {
             "outlinewidth": 0,
             "ticks": ""
            },
            "colorscale": [
             [
              0,
              "#0d0887"
             ],
             [
              0.1111111111111111,
              "#46039f"
             ],
             [
              0.2222222222222222,
              "#7201a8"
             ],
             [
              0.3333333333333333,
              "#9c179e"
             ],
             [
              0.4444444444444444,
              "#bd3786"
             ],
             [
              0.5555555555555556,
              "#d8576b"
             ],
             [
              0.6666666666666666,
              "#ed7953"
             ],
             [
              0.7777777777777778,
              "#fb9f3a"
             ],
             [
              0.8888888888888888,
              "#fdca26"
             ],
             [
              1,
              "#f0f921"
             ]
            ],
            "type": "heatmap"
           }
          ],
          "heatmapgl": [
           {
            "colorbar": {
             "outlinewidth": 0,
             "ticks": ""
            },
            "colorscale": [
             [
              0,
              "#0d0887"
             ],
             [
              0.1111111111111111,
              "#46039f"
             ],
             [
              0.2222222222222222,
              "#7201a8"
             ],
             [
              0.3333333333333333,
              "#9c179e"
             ],
             [
              0.4444444444444444,
              "#bd3786"
             ],
             [
              0.5555555555555556,
              "#d8576b"
             ],
             [
              0.6666666666666666,
              "#ed7953"
             ],
             [
              0.7777777777777778,
              "#fb9f3a"
             ],
             [
              0.8888888888888888,
              "#fdca26"
             ],
             [
              1,
              "#f0f921"
             ]
            ],
            "type": "heatmapgl"
           }
          ],
          "histogram": [
           {
            "marker": {
             "pattern": {
              "fillmode": "overlay",
              "size": 10,
              "solidity": 0.2
             }
            },
            "type": "histogram"
           }
          ],
          "histogram2d": [
           {
            "colorbar": {
             "outlinewidth": 0,
             "ticks": ""
            },
            "colorscale": [
             [
              0,
              "#0d0887"
             ],
             [
              0.1111111111111111,
              "#46039f"
             ],
             [
              0.2222222222222222,
              "#7201a8"
             ],
             [
              0.3333333333333333,
              "#9c179e"
             ],
             [
              0.4444444444444444,
              "#bd3786"
             ],
             [
              0.5555555555555556,
              "#d8576b"
             ],
             [
              0.6666666666666666,
              "#ed7953"
             ],
             [
              0.7777777777777778,
              "#fb9f3a"
             ],
             [
              0.8888888888888888,
              "#fdca26"
             ],
             [
              1,
              "#f0f921"
             ]
            ],
            "type": "histogram2d"
           }
          ],
          "histogram2dcontour": [
           {
            "colorbar": {
             "outlinewidth": 0,
             "ticks": ""
            },
            "colorscale": [
             [
              0,
              "#0d0887"
             ],
             [
              0.1111111111111111,
              "#46039f"
             ],
             [
              0.2222222222222222,
              "#7201a8"
             ],
             [
              0.3333333333333333,
              "#9c179e"
             ],
             [
              0.4444444444444444,
              "#bd3786"
             ],
             [
              0.5555555555555556,
              "#d8576b"
             ],
             [
              0.6666666666666666,
              "#ed7953"
             ],
             [
              0.7777777777777778,
              "#fb9f3a"
             ],
             [
              0.8888888888888888,
              "#fdca26"
             ],
             [
              1,
              "#f0f921"
             ]
            ],
            "type": "histogram2dcontour"
           }
          ],
          "mesh3d": [
           {
            "colorbar": {
             "outlinewidth": 0,
             "ticks": ""
            },
            "type": "mesh3d"
           }
          ],
          "parcoords": [
           {
            "line": {
             "colorbar": {
              "outlinewidth": 0,
              "ticks": ""
             }
            },
            "type": "parcoords"
           }
          ],
          "pie": [
           {
            "automargin": true,
            "type": "pie"
           }
          ],
          "scatter": [
           {
            "fillpattern": {
             "fillmode": "overlay",
             "size": 10,
             "solidity": 0.2
            },
            "type": "scatter"
           }
          ],
          "scatter3d": [
           {
            "line": {
             "colorbar": {
              "outlinewidth": 0,
              "ticks": ""
             }
            },
            "marker": {
             "colorbar": {
              "outlinewidth": 0,
              "ticks": ""
             }
            },
            "type": "scatter3d"
           }
          ],
          "scattercarpet": [
           {
            "marker": {
             "colorbar": {
              "outlinewidth": 0,
              "ticks": ""
             }
            },
            "type": "scattercarpet"
           }
          ],
          "scattergeo": [
           {
            "marker": {
             "colorbar": {
              "outlinewidth": 0,
              "ticks": ""
             }
            },
            "type": "scattergeo"
           }
          ],
          "scattergl": [
           {
            "marker": {
             "colorbar": {
              "outlinewidth": 0,
              "ticks": ""
             }
            },
            "type": "scattergl"
           }
          ],
          "scattermapbox": [
           {
            "marker": {
             "colorbar": {
              "outlinewidth": 0,
              "ticks": ""
             }
            },
            "type": "scattermapbox"
           }
          ],
          "scatterpolar": [
           {
            "marker": {
             "colorbar": {
              "outlinewidth": 0,
              "ticks": ""
             }
            },
            "type": "scatterpolar"
           }
          ],
          "scatterpolargl": [
           {
            "marker": {
             "colorbar": {
              "outlinewidth": 0,
              "ticks": ""
             }
            },
            "type": "scatterpolargl"
           }
          ],
          "scatterternary": [
           {
            "marker": {
             "colorbar": {
              "outlinewidth": 0,
              "ticks": ""
             }
            },
            "type": "scatterternary"
           }
          ],
          "surface": [
           {
            "colorbar": {
             "outlinewidth": 0,
             "ticks": ""
            },
            "colorscale": [
             [
              0,
              "#0d0887"
             ],
             [
              0.1111111111111111,
              "#46039f"
             ],
             [
              0.2222222222222222,
              "#7201a8"
             ],
             [
              0.3333333333333333,
              "#9c179e"
             ],
             [
              0.4444444444444444,
              "#bd3786"
             ],
             [
              0.5555555555555556,
              "#d8576b"
             ],
             [
              0.6666666666666666,
              "#ed7953"
             ],
             [
              0.7777777777777778,
              "#fb9f3a"
             ],
             [
              0.8888888888888888,
              "#fdca26"
             ],
             [
              1,
              "#f0f921"
             ]
            ],
            "type": "surface"
           }
          ],
          "table": [
           {
            "cells": {
             "fill": {
              "color": "#EBF0F8"
             },
             "line": {
              "color": "white"
             }
            },
            "header": {
             "fill": {
              "color": "#C8D4E3"
             },
             "line": {
              "color": "white"
             }
            },
            "type": "table"
           }
          ]
         },
         "layout": {
          "annotationdefaults": {
           "arrowcolor": "#2a3f5f",
           "arrowhead": 0,
           "arrowwidth": 1
          },
          "autotypenumbers": "strict",
          "coloraxis": {
           "colorbar": {
            "outlinewidth": 0,
            "ticks": ""
           }
          },
          "colorscale": {
           "diverging": [
            [
             0,
             "#8e0152"
            ],
            [
             0.1,
             "#c51b7d"
            ],
            [
             0.2,
             "#de77ae"
            ],
            [
             0.3,
             "#f1b6da"
            ],
            [
             0.4,
             "#fde0ef"
            ],
            [
             0.5,
             "#f7f7f7"
            ],
            [
             0.6,
             "#e6f5d0"
            ],
            [
             0.7,
             "#b8e186"
            ],
            [
             0.8,
             "#7fbc41"
            ],
            [
             0.9,
             "#4d9221"
            ],
            [
             1,
             "#276419"
            ]
           ],
           "sequential": [
            [
             0,
             "#0d0887"
            ],
            [
             0.1111111111111111,
             "#46039f"
            ],
            [
             0.2222222222222222,
             "#7201a8"
            ],
            [
             0.3333333333333333,
             "#9c179e"
            ],
            [
             0.4444444444444444,
             "#bd3786"
            ],
            [
             0.5555555555555556,
             "#d8576b"
            ],
            [
             0.6666666666666666,
             "#ed7953"
            ],
            [
             0.7777777777777778,
             "#fb9f3a"
            ],
            [
             0.8888888888888888,
             "#fdca26"
            ],
            [
             1,
             "#f0f921"
            ]
           ],
           "sequentialminus": [
            [
             0,
             "#0d0887"
            ],
            [
             0.1111111111111111,
             "#46039f"
            ],
            [
             0.2222222222222222,
             "#7201a8"
            ],
            [
             0.3333333333333333,
             "#9c179e"
            ],
            [
             0.4444444444444444,
             "#bd3786"
            ],
            [
             0.5555555555555556,
             "#d8576b"
            ],
            [
             0.6666666666666666,
             "#ed7953"
            ],
            [
             0.7777777777777778,
             "#fb9f3a"
            ],
            [
             0.8888888888888888,
             "#fdca26"
            ],
            [
             1,
             "#f0f921"
            ]
           ]
          },
          "colorway": [
           "#636efa",
           "#EF553B",
           "#00cc96",
           "#ab63fa",
           "#FFA15A",
           "#19d3f3",
           "#FF6692",
           "#B6E880",
           "#FF97FF",
           "#FECB52"
          ],
          "font": {
           "color": "#2a3f5f"
          },
          "geo": {
           "bgcolor": "white",
           "lakecolor": "white",
           "landcolor": "#E5ECF6",
           "showlakes": true,
           "showland": true,
           "subunitcolor": "white"
          },
          "hoverlabel": {
           "align": "left"
          },
          "hovermode": "closest",
          "mapbox": {
           "style": "light"
          },
          "paper_bgcolor": "white",
          "plot_bgcolor": "#E5ECF6",
          "polar": {
           "angularaxis": {
            "gridcolor": "white",
            "linecolor": "white",
            "ticks": ""
           },
           "bgcolor": "#E5ECF6",
           "radialaxis": {
            "gridcolor": "white",
            "linecolor": "white",
            "ticks": ""
           }
          },
          "scene": {
           "xaxis": {
            "backgroundcolor": "#E5ECF6",
            "gridcolor": "white",
            "gridwidth": 2,
            "linecolor": "white",
            "showbackground": true,
            "ticks": "",
            "zerolinecolor": "white"
           },
           "yaxis": {
            "backgroundcolor": "#E5ECF6",
            "gridcolor": "white",
            "gridwidth": 2,
            "linecolor": "white",
            "showbackground": true,
            "ticks": "",
            "zerolinecolor": "white"
           },
           "zaxis": {
            "backgroundcolor": "#E5ECF6",
            "gridcolor": "white",
            "gridwidth": 2,
            "linecolor": "white",
            "showbackground": true,
            "ticks": "",
            "zerolinecolor": "white"
           }
          },
          "shapedefaults": {
           "line": {
            "color": "#2a3f5f"
           }
          },
          "ternary": {
           "aaxis": {
            "gridcolor": "white",
            "linecolor": "white",
            "ticks": ""
           },
           "baxis": {
            "gridcolor": "white",
            "linecolor": "white",
            "ticks": ""
           },
           "bgcolor": "#E5ECF6",
           "caxis": {
            "gridcolor": "white",
            "linecolor": "white",
            "ticks": ""
           }
          },
          "title": {
           "x": 0.05
          },
          "xaxis": {
           "automargin": true,
           "gridcolor": "white",
           "linecolor": "white",
           "ticks": "",
           "title": {
            "standoff": 15
           },
           "zerolinecolor": "white",
           "zerolinewidth": 2
          },
          "yaxis": {
           "automargin": true,
           "gridcolor": "white",
           "linecolor": "white",
           "ticks": "",
           "title": {
            "standoff": 15
           },
           "zerolinecolor": "white",
           "zerolinewidth": 2
          }
         }
        }
       }
      }
     },
     "metadata": {},
     "output_type": "display_data"
    }
   ],
   "source": [
    "# plot the clusters on a 3d plot\n",
    "import plotly.express as px\n",
    "\n",
    "fig = px.scatter_3d(all_channels, x='viewCount', y='subscriberCount', z='videoCount', color='category_title')\n",
    "fig.show()"
   ]
  },
  {
   "cell_type": "code",
   "execution_count": null,
   "metadata": {},
   "outputs": [],
   "source": []
  }
 ],
 "metadata": {
  "kernelspec": {
   "display_name": "Python 3.7.6 64-bit",
   "language": "python",
   "name": "python3"
  },
  "language_info": {
   "codemirror_mode": {
    "name": "ipython",
    "version": 3
   },
   "file_extension": ".py",
   "mimetype": "text/x-python",
   "name": "python",
   "nbconvert_exporter": "python",
   "pygments_lexer": "ipython3",
   "version": "3.7.6"
  },
  "orig_nbformat": 4,
  "vscode": {
   "interpreter": {
    "hash": "53babf5c189ad8a4933a2bd5063a1840a2c47c9b82a6c06a0d6cefa0137ac8c2"
   }
  }
 },
 "nbformat": 4,
 "nbformat_minor": 2
}
