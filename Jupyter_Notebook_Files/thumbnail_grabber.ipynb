{
 "cells": [
  {
   "cell_type": "markdown",
   "metadata": {},
   "source": []
  },
  {
   "cell_type": "code",
   "execution_count": 29,
   "metadata": {},
   "outputs": [],
   "source": [
    "import pandas as pd\n",
    "import requests\n",
    "from PIL import Image\n",
    "from io import BytesIO\n"
   ]
  },
  {
   "cell_type": "code",
   "execution_count": 30,
   "metadata": {},
   "outputs": [],
   "source": [
    "# import all_channels\n",
    "all_channels = pd.read_csv('other_csvs/all_channels_df.csv')"
   ]
  },
  {
   "cell_type": "code",
   "execution_count": 31,
   "metadata": {},
   "outputs": [
    {
     "data": {
      "text/plain": [
       "Index(['id', 'title', 'description', 'customUrl', 'publishedAt',\n",
       "       'thumbnails.default.url', 'defaultLanguage', 'viewCount',\n",
       "       'subscriberCount', 'videoCount', 'topicIds', 'topicCategories',\n",
       "       'relatedPlaylists.uploads', 'category_title'],\n",
       "      dtype='object')"
      ]
     },
     "execution_count": 31,
     "metadata": {},
     "output_type": "execute_result"
    }
   ],
   "source": [
    "all_channels.columns"
   ]
  },
  {
   "cell_type": "code",
   "execution_count": 32,
   "metadata": {},
   "outputs": [],
   "source": [
    "# columns to drop\n",
    "columns_to_drop = ['title', 'description', 'customUrl', 'publishedAt',\n",
    "       'defaultLanguage', 'viewCount',\n",
    "       'subscriberCount', 'videoCount', 'topicIds', 'topicCategories',\n",
    "       'relatedPlaylists.uploads', 'category_title']"
   ]
  },
  {
   "cell_type": "code",
   "execution_count": 33,
   "metadata": {},
   "outputs": [],
   "source": [
    "# drop\n",
    "all_channels.drop(columns_to_drop, axis=1, inplace=True)"
   ]
  },
  {
   "cell_type": "code",
   "execution_count": 34,
   "metadata": {},
   "outputs": [
    {
     "data": {
      "text/html": [
       "<div>\n",
       "<style scoped>\n",
       "    .dataframe tbody tr th:only-of-type {\n",
       "        vertical-align: middle;\n",
       "    }\n",
       "\n",
       "    .dataframe tbody tr th {\n",
       "        vertical-align: top;\n",
       "    }\n",
       "\n",
       "    .dataframe thead th {\n",
       "        text-align: right;\n",
       "    }\n",
       "</style>\n",
       "<table border=\"1\" class=\"dataframe\">\n",
       "  <thead>\n",
       "    <tr style=\"text-align: right;\">\n",
       "      <th></th>\n",
       "      <th>id</th>\n",
       "      <th>thumbnails.default.url</th>\n",
       "    </tr>\n",
       "  </thead>\n",
       "  <tbody>\n",
       "    <tr>\n",
       "      <th>0</th>\n",
       "      <td>UCbCmjCuTUZos6Inko4u57UQ</td>\n",
       "      <td>https://yt3.ggpht.com/ytc/AMLnZu_BJeBKaLTt0S8I...</td>\n",
       "    </tr>\n",
       "    <tr>\n",
       "      <th>1</th>\n",
       "      <td>UCJplp5SjeGSdVdwsfb9Q7lQ</td>\n",
       "      <td>https://yt3.ggpht.com/ytc/AMLnZu82C2HA_T5m6zY8...</td>\n",
       "    </tr>\n",
       "    <tr>\n",
       "      <th>2</th>\n",
       "      <td>UCk8GzjMOrta8yxDcKfylJYw</td>\n",
       "      <td>https://yt3.ggpht.com/ytc/AMLnZu9RnORdVDP9G2zT...</td>\n",
       "    </tr>\n",
       "    <tr>\n",
       "      <th>3</th>\n",
       "      <td>UCJ5v_MCY6GNUBTO8-D3XoAg</td>\n",
       "      <td>https://yt3.ggpht.com/ytc/AMLnZu9vy3-XIqwir99c...</td>\n",
       "    </tr>\n",
       "    <tr>\n",
       "      <th>4</th>\n",
       "      <td>UCvlE5gTbOvjiolFlEm-c_Ow</td>\n",
       "      <td>https://yt3.ggpht.com/RlnpUc0SBCmYvseTqUqAfYey...</td>\n",
       "    </tr>\n",
       "    <tr>\n",
       "      <th>...</th>\n",
       "      <td>...</td>\n",
       "      <td>...</td>\n",
       "    </tr>\n",
       "    <tr>\n",
       "      <th>105</th>\n",
       "      <td>UCXsQlHGuoWqukC9vz-uonrg</td>\n",
       "      <td>https://yt3.ggpht.com/ytc/AMLnZu_mvrsuFUP4NZJa...</td>\n",
       "    </tr>\n",
       "    <tr>\n",
       "      <th>106</th>\n",
       "      <td>UCdPambxHRj0kdFPNoJFM98A</td>\n",
       "      <td>https://yt3.ggpht.com/ytc/AMLnZu8KL1silSJJz6Hd...</td>\n",
       "    </tr>\n",
       "    <tr>\n",
       "      <th>107</th>\n",
       "      <td>UC_ptyMRLOsS1Uj0a34a_xCA</td>\n",
       "      <td>https://yt3.ggpht.com/ytc/AMLnZu_zh77s33ea_sti...</td>\n",
       "    </tr>\n",
       "    <tr>\n",
       "      <th>108</th>\n",
       "      <td>UCJsSEDFFnMFvW9JWU6XUn0Q</td>\n",
       "      <td>https://yt3.ggpht.com/ytc/AMLnZu9B-oVwi1ZD_GM7...</td>\n",
       "    </tr>\n",
       "    <tr>\n",
       "      <th>109</th>\n",
       "      <td>UCd5xLBi_QU6w7RGm5TTznyQ</td>\n",
       "      <td>https://yt3.ggpht.com/ytc/AMLnZu_IX_GNn4l--FKZ...</td>\n",
       "    </tr>\n",
       "  </tbody>\n",
       "</table>\n",
       "<p>110 rows × 2 columns</p>\n",
       "</div>"
      ],
      "text/plain": [
       "                           id  \\\n",
       "0    UCbCmjCuTUZos6Inko4u57UQ   \n",
       "1    UCJplp5SjeGSdVdwsfb9Q7lQ   \n",
       "2    UCk8GzjMOrta8yxDcKfylJYw   \n",
       "3    UCJ5v_MCY6GNUBTO8-D3XoAg   \n",
       "4    UCvlE5gTbOvjiolFlEm-c_Ow   \n",
       "..                        ...   \n",
       "105  UCXsQlHGuoWqukC9vz-uonrg   \n",
       "106  UCdPambxHRj0kdFPNoJFM98A   \n",
       "107  UC_ptyMRLOsS1Uj0a34a_xCA   \n",
       "108  UCJsSEDFFnMFvW9JWU6XUn0Q   \n",
       "109  UCd5xLBi_QU6w7RGm5TTznyQ   \n",
       "\n",
       "                                thumbnails.default.url  \n",
       "0    https://yt3.ggpht.com/ytc/AMLnZu_BJeBKaLTt0S8I...  \n",
       "1    https://yt3.ggpht.com/ytc/AMLnZu82C2HA_T5m6zY8...  \n",
       "2    https://yt3.ggpht.com/ytc/AMLnZu9RnORdVDP9G2zT...  \n",
       "3    https://yt3.ggpht.com/ytc/AMLnZu9vy3-XIqwir99c...  \n",
       "4    https://yt3.ggpht.com/RlnpUc0SBCmYvseTqUqAfYey...  \n",
       "..                                                 ...  \n",
       "105  https://yt3.ggpht.com/ytc/AMLnZu_mvrsuFUP4NZJa...  \n",
       "106  https://yt3.ggpht.com/ytc/AMLnZu8KL1silSJJz6Hd...  \n",
       "107  https://yt3.ggpht.com/ytc/AMLnZu_zh77s33ea_sti...  \n",
       "108  https://yt3.ggpht.com/ytc/AMLnZu9B-oVwi1ZD_GM7...  \n",
       "109  https://yt3.ggpht.com/ytc/AMLnZu_IX_GNn4l--FKZ...  \n",
       "\n",
       "[110 rows x 2 columns]"
      ]
     },
     "execution_count": 34,
     "metadata": {},
     "output_type": "execute_result"
    }
   ],
   "source": [
    "all_channels"
   ]
  }
 ],
 "metadata": {
  "kernelspec": {
   "display_name": "Python 3.7.6 64-bit",
   "language": "python",
   "name": "python3"
  },
  "language_info": {
   "codemirror_mode": {
    "name": "ipython",
    "version": 3
   },
   "file_extension": ".py",
   "mimetype": "text/x-python",
   "name": "python",
   "nbconvert_exporter": "python",
   "pygments_lexer": "ipython3",
   "version": "3.7.6"
  },
  "orig_nbformat": 4,
  "vscode": {
   "interpreter": {
    "hash": "53babf5c189ad8a4933a2bd5063a1840a2c47c9b82a6c06a0d6cefa0137ac8c2"
   }
  }
 },
 "nbformat": 4,
 "nbformat_minor": 2
}
