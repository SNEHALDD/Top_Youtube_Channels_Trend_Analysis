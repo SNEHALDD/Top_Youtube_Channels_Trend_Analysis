{
 "cells": [
  {
   "cell_type": "code",
   "execution_count": 14,
   "metadata": {},
   "outputs": [],
   "source": [
    "# import dependencies\n",
    "import pandas as pd\n",
    "from sklearn.model_selection import train_test_split\n",
    "from sklearn.ensemble import RandomForestClassifier\n",
    "from sklearn.metrics import accuracy_score\n"
   ]
  },
  {
   "cell_type": "code",
   "execution_count": 15,
   "metadata": {},
   "outputs": [],
   "source": [
    "# read in the data\n",
    "random_channel_df = pd.read_csv('other_csvs/random_channels_df.csv')\n",
    "comment_df = pd.read_csv('other_csvs/comment_df.csv')\n",
    "all_channels = pd.read_csv('other_csvs/all_channels_df.csv')\n",
    "video_df = pd.read_csv('other_csvs/video_df_cleaned.csv')"
   ]
  },
  {
   "cell_type": "code",
   "execution_count": 17,
   "metadata": {},
   "outputs": [],
   "source": [
    "# drop the columns that are not needed\n",
    "columns_to_drop = ['id', 'title', 'description', 'publishedAt', 'thumbnails.default.url', 'customUrl', 'defaultLanguage', 'topicIds', 'topicCategories', 'relatedPlaylists.uploads']\n",
    "\n",
    "random_channel_ml = random_channel_df.drop(columns_to_drop, axis=1)\n",
    "random_channel_ml = random_channel_ml.drop('category_title', axis=1)\n",
    "all_channels_ml = all_channels.drop(columns_to_drop, axis=1)"
   ]
  },
  {
   "cell_type": "code",
   "execution_count": 18,
   "metadata": {},
   "outputs": [
    {
     "data": {
      "text/html": [
       "<div>\n",
       "<style scoped>\n",
       "    .dataframe tbody tr th:only-of-type {\n",
       "        vertical-align: middle;\n",
       "    }\n",
       "\n",
       "    .dataframe tbody tr th {\n",
       "        vertical-align: top;\n",
       "    }\n",
       "\n",
       "    .dataframe thead th {\n",
       "        text-align: right;\n",
       "    }\n",
       "</style>\n",
       "<table border=\"1\" class=\"dataframe\">\n",
       "  <thead>\n",
       "    <tr style=\"text-align: right;\">\n",
       "      <th></th>\n",
       "      <th>viewCount</th>\n",
       "      <th>subscriberCount</th>\n",
       "      <th>videoCount</th>\n",
       "      <th>category_title</th>\n",
       "    </tr>\n",
       "  </thead>\n",
       "  <tbody>\n",
       "    <tr>\n",
       "      <th>0</th>\n",
       "      <td>142468175305</td>\n",
       "      <td>146000000</td>\n",
       "      <td>811</td>\n",
       "      <td>0</td>\n",
       "    </tr>\n",
       "    <tr>\n",
       "      <th>1</th>\n",
       "      <td>85183017773</td>\n",
       "      <td>102000000</td>\n",
       "      <td>729</td>\n",
       "      <td>0</td>\n",
       "    </tr>\n",
       "    <tr>\n",
       "      <th>2</th>\n",
       "      <td>83311249514</td>\n",
       "      <td>102000000</td>\n",
       "      <td>1030</td>\n",
       "      <td>0</td>\n",
       "    </tr>\n",
       "    <tr>\n",
       "      <th>3</th>\n",
       "      <td>72222883101</td>\n",
       "      <td>91600000</td>\n",
       "      <td>64797</td>\n",
       "      <td>0</td>\n",
       "    </tr>\n",
       "    <tr>\n",
       "      <th>4</th>\n",
       "      <td>69985080921</td>\n",
       "      <td>89200000</td>\n",
       "      <td>498</td>\n",
       "      <td>0</td>\n",
       "    </tr>\n",
       "    <tr>\n",
       "      <th>...</th>\n",
       "      <td>...</td>\n",
       "      <td>...</td>\n",
       "      <td>...</td>\n",
       "      <td>...</td>\n",
       "    </tr>\n",
       "    <tr>\n",
       "      <th>105</th>\n",
       "      <td>163749185</td>\n",
       "      <td>1460000</td>\n",
       "      <td>91</td>\n",
       "      <td>9</td>\n",
       "    </tr>\n",
       "    <tr>\n",
       "      <th>106</th>\n",
       "      <td>151941207</td>\n",
       "      <td>1020000</td>\n",
       "      <td>1266</td>\n",
       "      <td>9</td>\n",
       "    </tr>\n",
       "    <tr>\n",
       "      <th>107</th>\n",
       "      <td>126569583</td>\n",
       "      <td>689000</td>\n",
       "      <td>427</td>\n",
       "      <td>9</td>\n",
       "    </tr>\n",
       "    <tr>\n",
       "      <th>108</th>\n",
       "      <td>88299661</td>\n",
       "      <td>542000</td>\n",
       "      <td>257</td>\n",
       "      <td>9</td>\n",
       "    </tr>\n",
       "    <tr>\n",
       "      <th>109</th>\n",
       "      <td>75488060</td>\n",
       "      <td>643000</td>\n",
       "      <td>400</td>\n",
       "      <td>9</td>\n",
       "    </tr>\n",
       "  </tbody>\n",
       "</table>\n",
       "<p>110 rows × 4 columns</p>\n",
       "</div>"
      ],
      "text/plain": [
       "        viewCount  subscriberCount  videoCount  category_title\n",
       "0    142468175305        146000000         811               0\n",
       "1     85183017773        102000000         729               0\n",
       "2     83311249514        102000000        1030               0\n",
       "3     72222883101         91600000       64797               0\n",
       "4     69985080921         89200000         498               0\n",
       "..            ...              ...         ...             ...\n",
       "105     163749185          1460000          91               9\n",
       "106     151941207          1020000        1266               9\n",
       "107     126569583           689000         427               9\n",
       "108      88299661           542000         257               9\n",
       "109      75488060           643000         400               9\n",
       "\n",
       "[110 rows x 4 columns]"
      ]
     },
     "execution_count": 18,
     "metadata": {},
     "output_type": "execute_result"
    }
   ],
   "source": [
    "categories = all_channels_ml['category_title'].unique()\n",
    "categories\n",
    "\n",
    "# create a dictionary to map the categories to numbers\n",
    "category_dict = {}\n",
    "for i in range(len(categories)):\n",
    "    category_dict[categories[i]] = i\n",
    "\n",
    "# map the categories to numbers\n",
    "all_channels_ml['category_title'] = all_channels_ml['category_title'].map(category_dict)\n",
    "\n",
    "all_channels_ml\n"
   ]
  },
  {
   "cell_type": "code",
   "execution_count": 19,
   "metadata": {},
   "outputs": [
    {
     "name": "stdout",
     "output_type": "stream",
     "text": [
      "0.6363636363636364\n"
     ]
    }
   ],
   "source": [
    "# split the data into training and testing\n",
    "X = all_channels_ml.drop('category_title', axis=1)\n",
    "y = all_channels_ml['category_title']\n",
    "\n",
    "X_train, X_test, y_train, y_test = train_test_split(X, y, test_size=0.2, random_state=42)\n",
    "\n",
    "# create the model\n",
    "rf = RandomForestClassifier(n_estimators=100, random_state=42)\n",
    "\n",
    "# fit the model\n",
    "rf.fit(X_train, y_train)\n",
    "\n",
    "# predict the category\n",
    "y_pred = rf.predict(X_test)\n",
    "\n",
    "# check the accuracy\n",
    "print(accuracy_score(y_test, y_pred))"
   ]
  }
 ],
 "metadata": {
  "kernelspec": {
   "display_name": "Python 3.7.6 64-bit",
   "language": "python",
   "name": "python3"
  },
  "language_info": {
   "codemirror_mode": {
    "name": "ipython",
    "version": 3
   },
   "file_extension": ".py",
   "mimetype": "text/x-python",
   "name": "python",
   "nbconvert_exporter": "python",
   "pygments_lexer": "ipython3",
   "version": "3.7.6"
  },
  "orig_nbformat": 4,
  "vscode": {
   "interpreter": {
    "hash": "53babf5c189ad8a4933a2bd5063a1840a2c47c9b82a6c06a0d6cefa0137ac8c2"
   }
  }
 },
 "nbformat": 4,
 "nbformat_minor": 2
}
